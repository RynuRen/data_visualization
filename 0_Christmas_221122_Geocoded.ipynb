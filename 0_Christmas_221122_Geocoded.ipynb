{
 "cells": [
  {
   "cell_type": "code",
   "execution_count": 1,
   "id": "b0b8865c-d19d-44dc-b4f1-4f3c09474339",
   "metadata": {},
   "outputs": [
    {
     "name": "stdout",
     "output_type": "stream",
     "text": [
      "   지역구            의료기관            주소                  상세주소          전화번호\n",
      "0  강서구     마곡정신건강의학과의원  마곡중앙로 161-17     보타닉파크타워1차 4층 401호  02.6053.1416\n",
      "1  강서구    맑은샘정신건강의학과의원     강서로 43-17             오거닉스타워 6층  02.6403.9139\n",
      "2  강서구      봄정신건강의학과의원   공항대로 269-15     힐스테이트에코마곡 2층 209호  02.2135.2924\n",
      "3  강서구   심(心)정신건강의학과의원     마곡중앙6로 66         퀸즈파크텐 2층 204호  02.6411.9088\n",
      "4  강서구  연세마곡숲정신건강의학과의원      마곡중앙5로 6  보타닉푸르지오시티 동관 2층 238호  02.2659.1610\n",
      "0    마곡중앙로 161-17\n",
      "1       강서로 43-17\n",
      "2     공항대로 269-15\n",
      "3       마곡중앙6로 66\n",
      "4        마곡중앙5로 6\n",
      "Name: 주소, dtype: object\n"
     ]
    }
   ],
   "source": [
    "import pandas as pd\n",
    "# csv파일 불러오기\n",
    "csv = pd.read_csv('data/clinic/Team3_Data_Seoul_221122.csv')\n",
    "print(csv.head())\n",
    "\n",
    "# 데이터프레임 주소값 추출\n",
    "address= csv['주소']\n",
    "print(address.head())\n",
    "\n",
    "\n",
    "# 주소 데이터 깔끔하게 다듬기\n",
    "#for i in range(len(address)):\n",
    "#    a = address[i].split(' ')\n",
    "#    address[i] = \" \".join(a[0:4])\n",
    "#print(address)\n",
    "\n",
    "####### 도로명주소 위도 경도 값으로 바꿔주기 ########\n",
    "from geopy.geocoders import Nominatim\n",
    "geo_local = Nominatim(user_agent='South Korea')\n",
    "\n",
    "# 위도, 경도 반환하는 함수\n",
    "def geocoding(address):\n",
    "    try:\n",
    "        geo = geo_local.geocode(address)\n",
    "        x_y = [geo.latitude, geo.longitude]\n",
    "        return x_y\n",
    "\n",
    "    except:\n",
    "        return [0,0]\n",
    "\n",
    "\n",
    "#####주소를 위,경도 값으로 변환하기 #####\n",
    "latitude = []\n",
    "longitude =[]\n",
    "\n",
    "for i in address:\n",
    "    latitude.append(geocoding(i)[0])\n",
    "    longitude.append(geocoding(i)[1])\n",
    "\n",
    "#####Dataframe만들기######\n",
    "address_df = pd.DataFrame({'지역구':csv['지역구'],'의료기관':csv['의료기관'],'주소':csv['주소'],'위도':latitude,'경도':longitude,'상세주소':csv['상세주소'],'전화번호':csv['전화번호']})\n",
    "\n",
    "#df저장\n",
    "address_df.to_csv('data/clinic/Team3_Data_Seoul_geocoded_all.csv')"
   ]
  },
  {
   "cell_type": "code",
   "execution_count": null,
   "id": "45927e1c-ef46-4b06-b7b5-b03d888acfd3",
   "metadata": {},
   "outputs": [],
   "source": [
    " "
   ]
  }
 ],
 "metadata": {
  "kernelspec": {
   "display_name": "Python 3 (ipykernel)",
   "language": "python",
   "name": "python3"
  },
  "language_info": {
   "codemirror_mode": {
    "name": "ipython",
    "version": 3
   },
   "file_extension": ".py",
   "mimetype": "text/x-python",
   "name": "python",
   "nbconvert_exporter": "python",
   "pygments_lexer": "ipython3",
   "version": "3.9.13"
  }
 },
 "nbformat": 4,
 "nbformat_minor": 5
}
