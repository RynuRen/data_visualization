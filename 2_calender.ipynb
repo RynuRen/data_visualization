{
 "cells": [
  {
   "cell_type": "code",
   "execution_count": 1,
   "id": "de88d8fa-46c2-40a2-ad8b-dc8e0c9c7af0",
   "metadata": {},
   "outputs": [],
   "source": [
    "import pyecharts\n",
    "from pyecharts.charts import Calendar\n",
    "from pyecharts import options as opts\n",
    "import pandas as pd"
   ]
  },
  {
   "cell_type": "markdown",
   "id": "76ac72d6-a309-41f0-90ea-4902a643faea",
   "metadata": {},
   "source": [
    "# 2017"
   ]
  },
  {
   "cell_type": "code",
   "execution_count": 2,
   "id": "6e7deb2d-10df-41d1-ad2a-c4bf0c903a06",
   "metadata": {},
   "outputs": [
    {
     "name": "stderr",
     "output_type": "stream",
     "text": [
      "C:\\Users\\user\\AppData\\Local\\Temp\\ipykernel_6656\\1115752597.py:1: DtypeWarning: Columns (4) have mixed types. Specify dtype option on import or set low_memory=False.\n",
      "  total_2017 = pd.read_csv('data/total/total_2017.csv')\n"
     ]
    }
   ],
   "source": [
    "total_2017 = pd.read_csv('data/total/total_2017.csv')"
   ]
  },
  {
   "cell_type": "code",
   "execution_count": 3,
   "id": "f0585cbd-b24a-47db-9ce7-b6150257ed2c",
   "metadata": {},
   "outputs": [],
   "source": [
    "total_2017['사용일자'] = total_2017['사용일자'].astype('str')\n",
    "total_2017['사용일자'] = pd.to_datetime(total_2017['사용일자'])\n",
    "day_by_year = total_2017.groupby('사용일자').sum()[['하차총승객수']].round(0)\n",
    "day_by_year = day_by_year.reset_index()\n",
    "data = day_by_year[['사용일자','하차총승객수']].values.tolist()\n",
    "max_day = day_by_year['하차총승객수'].max()\n",
    "min_day = day_by_year['하차총승객수'].min()\n",
    "max_day = day_by_year['하차총승객수'].max()\n",
    "min_day = day_by_year['하차총승객수'].min()\n",
    "cal = (Calendar()\n",
    " .add('',data,calendar_opts=opts.CalendarOpts(range_='2017'))\n",
    " .set_global_opts(\n",
    "     title_opts=opts.TitleOpts(title='2017년도 지하철, 버스 유동인구', subtitle='일별 데이터'),\n",
    "     legend_opts=opts.LegendOpts(is_show=False),\n",
    "     visualmap_opts=opts.VisualMapOpts(\n",
    "         max_ = max_day,\n",
    "         min_ = min_day,\n",
    "         orient='horizontal',\n",
    "         is_piecewise=False,\n",
    "         pos_top='230px',\n",
    "         pos_left='100px',\n",
    "     )))"
   ]
  },
  {
   "cell_type": "code",
   "execution_count": 4,
   "id": "aabbb82e-c40e-4b79-978c-bf54b04c93ea",
   "metadata": {},
   "outputs": [
    {
     "data": {
      "text/plain": [
       "'C:\\\\Workspace\\\\Python\\\\pandas_miniproject\\\\data\\\\total\\\\calender\\\\2017render.html'"
      ]
     },
     "execution_count": 4,
     "metadata": {},
     "output_type": "execute_result"
    }
   ],
   "source": [
    "cal.render('data/total/calender/2017render.html') #생성된 파일 확인"
   ]
  },
  {
   "cell_type": "markdown",
   "id": "008760df-cb96-4470-9cce-6cd9be3771a9",
   "metadata": {},
   "source": [
    "# 2018"
   ]
  },
  {
   "cell_type": "code",
   "execution_count": 5,
   "id": "7903ad61-98cb-4f4f-9abe-ac9d363319c0",
   "metadata": {},
   "outputs": [
    {
     "name": "stderr",
     "output_type": "stream",
     "text": [
      "C:\\Users\\user\\AppData\\Local\\Temp\\ipykernel_6656\\416556083.py:1: DtypeWarning: Columns (4) have mixed types. Specify dtype option on import or set low_memory=False.\n",
      "  total_2018 = pd.read_csv('data/total/total_2018.csv')\n"
     ]
    }
   ],
   "source": [
    "total_2018 = pd.read_csv('data/total/total_2018.csv')"
   ]
  },
  {
   "cell_type": "code",
   "execution_count": 6,
   "id": "1815c6f2-e011-4c9b-99ab-4a943b52725e",
   "metadata": {},
   "outputs": [],
   "source": [
    "total_2018['사용일자'] = total_2018['사용일자'].astype('str')\n",
    "total_2018['사용일자'] = pd.to_datetime(total_2018['사용일자'])\n",
    "day_by_year = total_2018.groupby('사용일자').sum()[['하차총승객수']].round(0)\n",
    "day_by_year = day_by_year.reset_index()\n",
    "data = day_by_year[['사용일자','하차총승객수']].values.tolist()\n",
    "max_day = day_by_year['하차총승객수'].max()\n",
    "min_day = day_by_year['하차총승객수'].min()\n",
    "max_day = day_by_year['하차총승객수'].max()\n",
    "min_day = day_by_year['하차총승객수'].min()\n",
    "cal = (Calendar()\n",
    " .add('',data,calendar_opts=opts.CalendarOpts(range_='2018'))\n",
    " .set_global_opts(\n",
    "     title_opts=opts.TitleOpts(title='2018년도 지하철, 버스 유동인구', subtitle='일별 데이터'),\n",
    "     legend_opts=opts.LegendOpts(is_show=False),\n",
    "     visualmap_opts=opts.VisualMapOpts(\n",
    "         max_ = max_day,\n",
    "         min_ = min_day,\n",
    "         orient='horizontal',\n",
    "         is_piecewise=False,\n",
    "         pos_top='230px',\n",
    "         pos_left='100px',\n",
    "     )))"
   ]
  },
  {
   "cell_type": "code",
   "execution_count": 7,
   "id": "354c7a62-c64f-4b56-951c-5205f553cac3",
   "metadata": {},
   "outputs": [
    {
     "data": {
      "text/plain": [
       "'C:\\\\Workspace\\\\Python\\\\pandas_miniproject\\\\data\\\\total\\\\calender\\\\2018render.html'"
      ]
     },
     "execution_count": 7,
     "metadata": {},
     "output_type": "execute_result"
    }
   ],
   "source": [
    "cal.render('data/total/calender/2018render.html') #생성된 파일 확인"
   ]
  },
  {
   "cell_type": "markdown",
   "id": "bb1d35d6-885f-4a3d-9986-1f6588481f4e",
   "metadata": {},
   "source": [
    "# 2019"
   ]
  },
  {
   "cell_type": "code",
   "execution_count": 8,
   "id": "25d90b1d-0c1a-4988-b367-dd1987614593",
   "metadata": {},
   "outputs": [
    {
     "name": "stderr",
     "output_type": "stream",
     "text": [
      "C:\\Users\\user\\AppData\\Local\\Temp\\ipykernel_6656\\2874471806.py:1: DtypeWarning: Columns (4) have mixed types. Specify dtype option on import or set low_memory=False.\n",
      "  total_2019 = pd.read_csv('data/total/total_2019.csv')\n"
     ]
    }
   ],
   "source": [
    "total_2019 = pd.read_csv('data/total/total_2019.csv')"
   ]
  },
  {
   "cell_type": "code",
   "execution_count": 9,
   "id": "ac6c0fea-7806-4659-ad65-2e4b7d22886a",
   "metadata": {},
   "outputs": [],
   "source": [
    "total_2019['사용일자'] = total_2019['사용일자'].astype('str')\n",
    "total_2019['사용일자'] = pd.to_datetime(total_2019['사용일자'])\n",
    "day_by_year = total_2019.groupby('사용일자').sum()[['하차총승객수']].round(0)\n",
    "day_by_year = day_by_year.reset_index()\n",
    "data = day_by_year[['사용일자','하차총승객수']].values.tolist()\n",
    "max_day = day_by_year['하차총승객수'].max()\n",
    "min_day = day_by_year['하차총승객수'].min()\n",
    "max_day = day_by_year['하차총승객수'].max()\n",
    "min_day = day_by_year['하차총승객수'].min()\n",
    "cal = (Calendar()\n",
    " .add('',data,calendar_opts=opts.CalendarOpts(range_='2019'))\n",
    " .set_global_opts(\n",
    "     title_opts=opts.TitleOpts(title='2019년도 지하철, 버스 유동인구', subtitle='일별 데이터'),\n",
    "     legend_opts=opts.LegendOpts(is_show=False),\n",
    "     visualmap_opts=opts.VisualMapOpts(\n",
    "         max_ = max_day,\n",
    "         min_ = min_day,\n",
    "         orient='horizontal',\n",
    "         is_piecewise=False,\n",
    "         pos_top='230px',\n",
    "         pos_left='100px',\n",
    "     )))"
   ]
  },
  {
   "cell_type": "code",
   "execution_count": 10,
   "id": "5a4f7db9-c116-487b-8dd2-1b3c77d3946b",
   "metadata": {},
   "outputs": [
    {
     "data": {
      "text/plain": [
       "'C:\\\\Workspace\\\\Python\\\\pandas_miniproject\\\\data\\\\total\\\\calender\\\\2019render.html'"
      ]
     },
     "execution_count": 10,
     "metadata": {},
     "output_type": "execute_result"
    }
   ],
   "source": [
    "cal.render('data/total/calender/2019render.html') #생성된 파일 확인"
   ]
  },
  {
   "cell_type": "markdown",
   "id": "203962c6-3cf9-4be4-8d8e-e1fd002e6b6a",
   "metadata": {},
   "source": [
    "# 2020"
   ]
  },
  {
   "cell_type": "code",
   "execution_count": 11,
   "id": "5cb8025b-4c5a-49ff-a127-99b102250ee6",
   "metadata": {},
   "outputs": [
    {
     "name": "stderr",
     "output_type": "stream",
     "text": [
      "C:\\Users\\user\\AppData\\Local\\Temp\\ipykernel_6656\\2893381477.py:1: DtypeWarning: Columns (4) have mixed types. Specify dtype option on import or set low_memory=False.\n",
      "  total_2020 = pd.read_csv('data/total/total_2020.csv')\n"
     ]
    }
   ],
   "source": [
    "total_2020 = pd.read_csv('data/total/total_2020.csv')"
   ]
  },
  {
   "cell_type": "code",
   "execution_count": 12,
   "id": "5915a3bc-5c62-4146-8fa5-72198fa714f5",
   "metadata": {},
   "outputs": [],
   "source": [
    "total_2020['사용일자'] = total_2020['사용일자'].astype('str')\n",
    "total_2020['사용일자'] = pd.to_datetime(total_2020['사용일자'])\n",
    "day_by_year = total_2020.groupby('사용일자').sum()[['하차총승객수']].round(0)\n",
    "day_by_year = day_by_year.reset_index()\n",
    "data = day_by_year[['사용일자','하차총승객수']].values.tolist()\n",
    "max_day = day_by_year['하차총승객수'].max()\n",
    "min_day = day_by_year['하차총승객수'].min()\n",
    "max_day = day_by_year['하차총승객수'].max()\n",
    "min_day = day_by_year['하차총승객수'].min()\n",
    "cal = (Calendar()\n",
    " .add('',data,calendar_opts=opts.CalendarOpts(range_='2020'))\n",
    " .set_global_opts(\n",
    "     title_opts=opts.TitleOpts(title='2020 지하철, 버스 유동인구', subtitle='일별 데이터'),\n",
    "     legend_opts=opts.LegendOpts(is_show=False),\n",
    "     visualmap_opts=opts.VisualMapOpts(\n",
    "         max_ = max_day,\n",
    "         min_ = min_day,\n",
    "         orient='horizontal',\n",
    "         is_piecewise=False,\n",
    "         pos_top='230px',\n",
    "         pos_left='100px',\n",
    "     )))"
   ]
  },
  {
   "cell_type": "code",
   "execution_count": 13,
   "id": "bf61dc1b-9bf4-4943-a7e0-75315245d747",
   "metadata": {},
   "outputs": [
    {
     "data": {
      "text/plain": [
       "'C:\\\\Workspace\\\\Python\\\\pandas_miniproject\\\\data\\\\total\\\\calender\\\\2020render.html'"
      ]
     },
     "execution_count": 13,
     "metadata": {},
     "output_type": "execute_result"
    }
   ],
   "source": [
    "cal.render('data/total/calender/2020render.html') #생성된 파일 확인"
   ]
  },
  {
   "cell_type": "markdown",
   "id": "fafd8829-5b67-4b4a-925b-a08c60499678",
   "metadata": {},
   "source": [
    "# 2021"
   ]
  },
  {
   "cell_type": "code",
   "execution_count": 14,
   "id": "91ab8029-38ec-44a0-8653-7dcab674bb6c",
   "metadata": {},
   "outputs": [
    {
     "name": "stderr",
     "output_type": "stream",
     "text": [
      "C:\\Users\\user\\AppData\\Local\\Temp\\ipykernel_6656\\2561333800.py:1: DtypeWarning: Columns (4) have mixed types. Specify dtype option on import or set low_memory=False.\n",
      "  total_2021 = pd.read_csv('data/total/total_2021.csv')\n"
     ]
    }
   ],
   "source": [
    "total_2021 = pd.read_csv('data/total/total_2021.csv')"
   ]
  },
  {
   "cell_type": "code",
   "execution_count": 15,
   "id": "72564522-f29b-4739-b5af-5587172515b0",
   "metadata": {},
   "outputs": [],
   "source": [
    "total_2021['사용일자'] = total_2021['사용일자'].astype('str')\n",
    "total_2021['사용일자'] = pd.to_datetime(total_2021['사용일자'])\n",
    "day_by_year = total_2021.groupby('사용일자').sum()[['하차총승객수']].round(0)\n",
    "day_by_year = day_by_year.reset_index()\n",
    "data = day_by_year[['사용일자','하차총승객수']].values.tolist()\n",
    "max_day = day_by_year['하차총승객수'].max()\n",
    "min_day = day_by_year['하차총승객수'].min()\n",
    "max_day = day_by_year['하차총승객수'].max()\n",
    "min_day = day_by_year['하차총승객수'].min()\n",
    "cal = (Calendar()\n",
    " .add('',data,calendar_opts=opts.CalendarOpts(range_='2021'))\n",
    " .set_global_opts(\n",
    "     title_opts=opts.TitleOpts(title='2021년도 지하철, 버스 유동인구', subtitle='일별 데이터'),\n",
    "     legend_opts=opts.LegendOpts(is_show=False),\n",
    "     visualmap_opts=opts.VisualMapOpts(\n",
    "         max_ = max_day,\n",
    "         min_ = min_day,\n",
    "         orient='horizontal',\n",
    "         is_piecewise=False,\n",
    "         pos_top='230px',\n",
    "         pos_left='100px',\n",
    "     )))"
   ]
  },
  {
   "cell_type": "code",
   "execution_count": 16,
   "id": "18b8a711-d0f2-4ea0-89b3-6f258e0161bb",
   "metadata": {},
   "outputs": [
    {
     "data": {
      "text/plain": [
       "'C:\\\\Workspace\\\\Python\\\\pandas_miniproject\\\\data\\\\total\\\\calender\\\\2021render.html'"
      ]
     },
     "execution_count": 16,
     "metadata": {},
     "output_type": "execute_result"
    }
   ],
   "source": [
    "cal.render('data/total/calender/2021render.html') #생성된 파일 확인"
   ]
  },
  {
   "cell_type": "code",
   "execution_count": null,
   "id": "c195efeb-dbe6-4dae-899a-22b1ede5f53b",
   "metadata": {},
   "outputs": [],
   "source": []
  }
 ],
 "metadata": {
  "kernelspec": {
   "display_name": "Python 3 (ipykernel)",
   "language": "python",
   "name": "python3"
  },
  "language_info": {
   "codemirror_mode": {
    "name": "ipython",
    "version": 3
   },
   "file_extension": ".py",
   "mimetype": "text/x-python",
   "name": "python",
   "nbconvert_exporter": "python",
   "pygments_lexer": "ipython3",
   "version": "3.9.13"
  }
 },
 "nbformat": 4,
 "nbformat_minor": 5
}
