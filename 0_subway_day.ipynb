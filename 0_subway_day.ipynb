{
 "cells": [
  {
   "cell_type": "code",
   "execution_count": 1,
   "id": "8ce794f3-5a04-480e-8761-9bdcb3a5c6a7",
   "metadata": {},
   "outputs": [],
   "source": [
    "import pandas as pd\n",
    "import glob\n",
    "import json\n",
    "import requests"
   ]
  },
  {
   "cell_type": "markdown",
   "id": "462698b3-cb50-43b7-9033-8232fb22ba64",
   "metadata": {
    "tags": []
   },
   "source": [
    "# 지하철 역별 위치 정보 저장 (위도, 경도, 행정구역 명)"
   ]
  },
  {
   "cell_type": "code",
   "execution_count": 2,
   "id": "1088ff74-40f7-4708-a7d7-313ca68e6ae4",
   "metadata": {},
   "outputs": [],
   "source": [
    "# `sub_yx` 지하철 위경도 좌표가 적힌 df 생성\n",
    "sub_yx = pd.read_csv('data/subway_day/지하철역_좌표.csv', encoding='cp949')"
   ]
  },
  {
   "cell_type": "code",
   "execution_count": 3,
   "id": "a3f00ec7-c47d-4c4e-9fcb-4e509478b970",
   "metadata": {},
   "outputs": [],
   "source": [
    "# `sub_yx` df에 좌표데이터와 매칭되는 행정구역 명 추가\n",
    "api_key = '2c56f9597f650d4a2dec845b2e0fe615'\n",
    "\n",
    "# 위도 경도로 주소를 찾아서 리스트에 넣어주는 함수\n",
    "def lat_lon_to_addr(lon,lat):\n",
    "    url = 'https://dapi.kakao.com/v2/local/geo/coord2regioncode.json?x={longitude}&y={latitude}'.format(longitude=lon,latitude=lat)\n",
    "    headers = {\"Authorization\": \"KakaoAK \" + api_key}\n",
    "    result = json.loads(str(requests.get(url, headers=headers).text))\n",
    "    match_first = result['documents'][0]['address_name']\n",
    "    return addr.append(match_first)\n",
    "\n",
    "addr = []\n",
    "\n",
    "for i in range(0,len(sub_yx['X좌표'])):\n",
    "    try: lat_lon_to_addr(sub_yx['X좌표'][i],sub_yx['Y좌표'][i])\n",
    "    except :\n",
    "        addr.append(None)\n",
    "        \n",
    "# #리스트를 데이터 프레임으로 저장\n",
    "addr = pd.DataFrame(addr)\n",
    "\n",
    "#컬럼 정리\n",
    "addr['X좌표'] = sub_yx['X좌표']\n",
    "addr.rename(columns={0:'주소'},inplace=True)\n",
    "addr=addr[['X좌표', '주소']]\n",
    "\n",
    "#병합하고 분리\n",
    "sub_yx = pd.merge(sub_yx,addr, on = 'X좌표', how='left')\n",
    "\n",
    "sub_yx = sub_yx[sub_yx['주소'].str.split(' ').str.get(0) == '서울특별시']\n",
    "\n",
    "sub_yx['구'] = sub_yx['주소'].str.split(' ').str.get(-2)\n",
    "sub_yx['동'] = sub_yx['주소'].str.split(' ').str.get(-1)\n",
    "\n",
    "\n",
    "# 저장해서 로드 시간을 단축\n",
    "sub_yx.to_csv('data/subway_day/지하철역_위치데이터.csv', index=False)"
   ]
  },
  {
   "cell_type": "markdown",
   "id": "2950bd98-8ae3-4a43-a8d0-c35228751c92",
   "metadata": {
    "jp-MarkdownHeadingCollapsed": true,
    "tags": []
   },
   "source": [
    "### (지하철 위치데이터 `sub_yx` 데이터프레임 정보)"
   ]
  },
  {
   "cell_type": "code",
   "execution_count": 4,
   "id": "da1e2647-0077-403d-8ea6-4e377eecd254",
   "metadata": {
    "tags": []
   },
   "outputs": [
    {
     "data": {
      "text/plain": [
       "pandas.core.frame.DataFrame"
      ]
     },
     "execution_count": 4,
     "metadata": {},
     "output_type": "execute_result"
    }
   ],
   "source": [
    "type(sub_yx)"
   ]
  },
  {
   "cell_type": "code",
   "execution_count": 5,
   "id": "220e3997-2ef8-4743-9c6f-f693c0d10c7b",
   "metadata": {
    "tags": []
   },
   "outputs": [
    {
     "name": "stdout",
     "output_type": "stream",
     "text": [
      "<class 'pandas.core.frame.DataFrame'>\n",
      "Int64Index: 297 entries, 0 to 581\n",
      "Data columns (total 6 columns):\n",
      " #   Column  Non-Null Count  Dtype  \n",
      "---  ------  --------------  -----  \n",
      " 0   역명      297 non-null    object \n",
      " 1   Y좌표     297 non-null    float64\n",
      " 2   X좌표     297 non-null    float64\n",
      " 3   주소      297 non-null    object \n",
      " 4   구       297 non-null    object \n",
      " 5   동       297 non-null    object \n",
      "dtypes: float64(2), object(4)\n",
      "memory usage: 16.2+ KB\n"
     ]
    }
   ],
   "source": [
    "sub_yx.info()"
   ]
  },
  {
   "cell_type": "code",
   "execution_count": 6,
   "id": "48239c2a-23bc-439c-bdb7-2c172478a2bb",
   "metadata": {
    "tags": []
   },
   "outputs": [
    {
     "data": {
      "text/plain": [
       "역명      object\n",
       "Y좌표    float64\n",
       "X좌표    float64\n",
       "주소      object\n",
       "구       object\n",
       "동       object\n",
       "dtype: object"
      ]
     },
     "execution_count": 6,
     "metadata": {},
     "output_type": "execute_result"
    }
   ],
   "source": [
    "sub_yx.dtypes"
   ]
  },
  {
   "cell_type": "code",
   "execution_count": 7,
   "id": "461fe9a3-7d94-4093-81fd-442f32c90b7f",
   "metadata": {
    "tags": []
   },
   "outputs": [
    {
     "data": {
      "text/plain": [
       "1782"
      ]
     },
     "execution_count": 7,
     "metadata": {},
     "output_type": "execute_result"
    }
   ],
   "source": [
    "sub_yx.size"
   ]
  },
  {
   "cell_type": "code",
   "execution_count": 8,
   "id": "531a00e9-1f49-42d6-848f-d26214104744",
   "metadata": {
    "tags": []
   },
   "outputs": [
    {
     "data": {
      "text/plain": [
       "2"
      ]
     },
     "execution_count": 8,
     "metadata": {},
     "output_type": "execute_result"
    }
   ],
   "source": [
    "sub_yx.ndim"
   ]
  },
  {
   "cell_type": "code",
   "execution_count": 9,
   "id": "549ed612-d1b4-4229-9fb8-0cf47bc5d2e2",
   "metadata": {
    "tags": []
   },
   "outputs": [
    {
     "data": {
      "text/plain": [
       "Int64Index([  0,   1,   2,   3,   4,   5,   6,   7,   8,   9,\n",
       "            ...\n",
       "            548, 549, 550, 556, 576, 577, 578, 579, 580, 581],\n",
       "           dtype='int64', length=297)"
      ]
     },
     "execution_count": 9,
     "metadata": {},
     "output_type": "execute_result"
    }
   ],
   "source": [
    "sub_yx.index"
   ]
  },
  {
   "cell_type": "code",
   "execution_count": 10,
   "id": "f2bd0143-2ef8-443b-b190-7da882f4e3dd",
   "metadata": {
    "tags": []
   },
   "outputs": [
    {
     "data": {
      "text/plain": [
       "array([['가락시장', 37.492522, 127.118234, '서울특별시 송파구 가락동', '송파구', '가락동'],\n",
       "       ['종로3가', 37.571607, 126.991806, '서울특별시 종로구 묘동', '종로구', '묘동'],\n",
       "       ['오금', 37.502162, 127.128111, '서울특별시 송파구 오금동', '송파구', '오금동'],\n",
       "       ...,\n",
       "       ['솔샘', 37.62124, 127.013528, '서울특별시 강북구 미아동', '강북구', '미아동'],\n",
       "       ['북한산보국문', 37.612343, 127.008009, '서울특별시 성북구 정릉동', '성북구', '정릉동'],\n",
       "       ['정릉', 37.602798, 127.01349, '서울특별시 성북구 정릉동', '성북구', '정릉동']],\n",
       "      dtype=object)"
      ]
     },
     "execution_count": 10,
     "metadata": {},
     "output_type": "execute_result"
    }
   ],
   "source": [
    "sub_yx.values"
   ]
  },
  {
   "cell_type": "code",
   "execution_count": 11,
   "id": "a85a58ee-4ba7-4d38-abdf-10f966e02734",
   "metadata": {
    "tags": []
   },
   "outputs": [
    {
     "data": {
      "text/plain": [
       "Index(['역명', 'Y좌표', 'X좌표', '주소', '구', '동'], dtype='object')"
      ]
     },
     "execution_count": 11,
     "metadata": {},
     "output_type": "execute_result"
    }
   ],
   "source": [
    "sub_yx.columns"
   ]
  },
  {
   "cell_type": "code",
   "execution_count": 12,
   "id": "cec8c646-bdfa-495d-ab5d-be4b09067aab",
   "metadata": {
    "tags": []
   },
   "outputs": [
    {
     "data": {
      "text/html": [
       "<div>\n",
       "<style scoped>\n",
       "    .dataframe tbody tr th:only-of-type {\n",
       "        vertical-align: middle;\n",
       "    }\n",
       "\n",
       "    .dataframe tbody tr th {\n",
       "        vertical-align: top;\n",
       "    }\n",
       "\n",
       "    .dataframe thead th {\n",
       "        text-align: right;\n",
       "    }\n",
       "</style>\n",
       "<table border=\"1\" class=\"dataframe\">\n",
       "  <thead>\n",
       "    <tr style=\"text-align: right;\">\n",
       "      <th></th>\n",
       "      <th>역명</th>\n",
       "      <th>Y좌표</th>\n",
       "      <th>X좌표</th>\n",
       "      <th>주소</th>\n",
       "      <th>구</th>\n",
       "      <th>동</th>\n",
       "    </tr>\n",
       "  </thead>\n",
       "  <tbody>\n",
       "    <tr>\n",
       "      <th>0</th>\n",
       "      <td>가락시장</td>\n",
       "      <td>37.492522</td>\n",
       "      <td>127.118234</td>\n",
       "      <td>서울특별시 송파구 가락동</td>\n",
       "      <td>송파구</td>\n",
       "      <td>가락동</td>\n",
       "    </tr>\n",
       "    <tr>\n",
       "      <th>1</th>\n",
       "      <td>종로3가</td>\n",
       "      <td>37.571607</td>\n",
       "      <td>126.991806</td>\n",
       "      <td>서울특별시 종로구 묘동</td>\n",
       "      <td>종로구</td>\n",
       "      <td>묘동</td>\n",
       "    </tr>\n",
       "  </tbody>\n",
       "</table>\n",
       "</div>"
      ],
      "text/plain": [
       "     역명        Y좌표         X좌표             주소    구    동\n",
       "0  가락시장  37.492522  127.118234  서울특별시 송파구 가락동  송파구  가락동\n",
       "1  종로3가  37.571607  126.991806   서울특별시 종로구 묘동  종로구   묘동"
      ]
     },
     "execution_count": 12,
     "metadata": {},
     "output_type": "execute_result"
    }
   ],
   "source": [
    "sub_yx.head(2)"
   ]
  },
  {
   "cell_type": "code",
   "execution_count": 13,
   "id": "61e08020-fd54-405b-bb37-0911efde6b8a",
   "metadata": {
    "tags": []
   },
   "outputs": [
    {
     "data": {
      "text/html": [
       "<div>\n",
       "<style scoped>\n",
       "    .dataframe tbody tr th:only-of-type {\n",
       "        vertical-align: middle;\n",
       "    }\n",
       "\n",
       "    .dataframe tbody tr th {\n",
       "        vertical-align: top;\n",
       "    }\n",
       "\n",
       "    .dataframe thead th {\n",
       "        text-align: right;\n",
       "    }\n",
       "</style>\n",
       "<table border=\"1\" class=\"dataframe\">\n",
       "  <thead>\n",
       "    <tr style=\"text-align: right;\">\n",
       "      <th></th>\n",
       "      <th>역명</th>\n",
       "      <th>Y좌표</th>\n",
       "      <th>X좌표</th>\n",
       "      <th>주소</th>\n",
       "      <th>구</th>\n",
       "      <th>동</th>\n",
       "    </tr>\n",
       "  </thead>\n",
       "  <tbody>\n",
       "    <tr>\n",
       "      <th>580</th>\n",
       "      <td>북한산보국문</td>\n",
       "      <td>37.612343</td>\n",
       "      <td>127.008009</td>\n",
       "      <td>서울특별시 성북구 정릉동</td>\n",
       "      <td>성북구</td>\n",
       "      <td>정릉동</td>\n",
       "    </tr>\n",
       "    <tr>\n",
       "      <th>581</th>\n",
       "      <td>정릉</td>\n",
       "      <td>37.602798</td>\n",
       "      <td>127.013490</td>\n",
       "      <td>서울특별시 성북구 정릉동</td>\n",
       "      <td>성북구</td>\n",
       "      <td>정릉동</td>\n",
       "    </tr>\n",
       "  </tbody>\n",
       "</table>\n",
       "</div>"
      ],
      "text/plain": [
       "         역명        Y좌표         X좌표             주소    구    동\n",
       "580  북한산보국문  37.612343  127.008009  서울특별시 성북구 정릉동  성북구  정릉동\n",
       "581      정릉  37.602798  127.013490  서울특별시 성북구 정릉동  성북구  정릉동"
      ]
     },
     "execution_count": 13,
     "metadata": {},
     "output_type": "execute_result"
    }
   ],
   "source": [
    "sub_yx.tail(2)"
   ]
  },
  {
   "cell_type": "code",
   "execution_count": 14,
   "id": "1fbe78fa-117e-4cc1-825e-f30ccd77f118",
   "metadata": {},
   "outputs": [
    {
     "data": {
      "text/plain": [
       "295"
      ]
     },
     "execution_count": 14,
     "metadata": {},
     "output_type": "execute_result"
    }
   ],
   "source": [
    "sub_yx['역명'].nunique()"
   ]
  },
  {
   "cell_type": "markdown",
   "id": "6696063d-db77-40bd-a22c-ef149ff8695e",
   "metadata": {},
   "source": [
    "# 2017년_지하철데이터 생성"
   ]
  },
  {
   "cell_type": "markdown",
   "id": "ef30cf45-2e36-427c-a5a8-5b6b7fdcb114",
   "metadata": {},
   "source": [
    "##  1. 2017년도 월별 지하철 지하철탑승정보 csv 파일 병합"
   ]
  },
  {
   "cell_type": "code",
   "execution_count": 15,
   "id": "6b16f49c-a4b1-4670-b245-6b5419a55608",
   "metadata": {},
   "outputs": [],
   "source": [
    "# csv 파일을 불러 병합\n",
    "csvfiles = glob.glob('data/subway_day/2017/*.csv')\n",
    "# `sub_off2017` 2017년도 지하철 하차인원 csv 파일의 합 df 생성\n",
    "sub_off2017 = pd.DataFrame()\n",
    "\n",
    "for csvfile in csvfiles:\n",
    "    tmp = pd.read_csv(csvfile, encoding='cp949', low_memory = False)\n",
    "    sub_off2017 = pd.concat([sub_off2017, tmp])\n",
    "    \n",
    "sub_off2017.reset_index(drop=True, inplace=True)"
   ]
  },
  {
   "cell_type": "markdown",
   "id": "2135d27d-2752-4762-8268-6303184dfef5",
   "metadata": {
    "jp-MarkdownHeadingCollapsed": true,
    "tags": []
   },
   "source": [
    "### (`sub_off2017` 데이터프레임 정보)"
   ]
  },
  {
   "cell_type": "code",
   "execution_count": 16,
   "id": "ab7dbbe4-7cf9-4408-bf17-a1691c86ac53",
   "metadata": {
    "tags": []
   },
   "outputs": [
    {
     "data": {
      "text/plain": [
       "pandas.core.frame.DataFrame"
      ]
     },
     "execution_count": 16,
     "metadata": {},
     "output_type": "execute_result"
    }
   ],
   "source": [
    "type(sub_off2017)"
   ]
  },
  {
   "cell_type": "code",
   "execution_count": 17,
   "id": "a705e443-0186-49eb-9f31-feceda77dc40",
   "metadata": {
    "tags": []
   },
   "outputs": [
    {
     "name": "stdout",
     "output_type": "stream",
     "text": [
      "<class 'pandas.core.frame.DataFrame'>\n",
      "RangeIndex: 208257 entries, 0 to 208256\n",
      "Data columns (total 6 columns):\n",
      " #   Column  Non-Null Count   Dtype \n",
      "---  ------  --------------   ----- \n",
      " 0   사용일자    208257 non-null  int64 \n",
      " 1   노선명     208257 non-null  object\n",
      " 2   역명      208257 non-null  object\n",
      " 3   승차총승객수  208257 non-null  int64 \n",
      " 4   하차총승객수  208257 non-null  int64 \n",
      " 5   등록일자    208257 non-null  int64 \n",
      "dtypes: int64(4), object(2)\n",
      "memory usage: 9.5+ MB\n"
     ]
    }
   ],
   "source": [
    "sub_off2017.info()"
   ]
  },
  {
   "cell_type": "code",
   "execution_count": 18,
   "id": "3684e392-35b7-4600-a574-598f9ae78c6e",
   "metadata": {
    "tags": []
   },
   "outputs": [
    {
     "data": {
      "text/plain": [
       "사용일자       int64\n",
       "노선명       object\n",
       "역명        object\n",
       "승차총승객수     int64\n",
       "하차총승객수     int64\n",
       "등록일자       int64\n",
       "dtype: object"
      ]
     },
     "execution_count": 18,
     "metadata": {},
     "output_type": "execute_result"
    }
   ],
   "source": [
    "sub_off2017.dtypes"
   ]
  },
  {
   "cell_type": "code",
   "execution_count": 19,
   "id": "bea5a1ae-490a-419f-95ce-c63e168a3491",
   "metadata": {
    "tags": []
   },
   "outputs": [
    {
     "data": {
      "text/plain": [
       "1249542"
      ]
     },
     "execution_count": 19,
     "metadata": {},
     "output_type": "execute_result"
    }
   ],
   "source": [
    "sub_off2017.size"
   ]
  },
  {
   "cell_type": "code",
   "execution_count": 20,
   "id": "aaa01182-a355-49dd-b6f9-8417e17d8ee7",
   "metadata": {
    "tags": []
   },
   "outputs": [
    {
     "data": {
      "text/plain": [
       "2"
      ]
     },
     "execution_count": 20,
     "metadata": {},
     "output_type": "execute_result"
    }
   ],
   "source": [
    "sub_off2017.ndim"
   ]
  },
  {
   "cell_type": "code",
   "execution_count": 21,
   "id": "ce92f5fc-e8bc-456c-9eda-010036ca18d8",
   "metadata": {
    "tags": []
   },
   "outputs": [
    {
     "data": {
      "text/plain": [
       "RangeIndex(start=0, stop=208257, step=1)"
      ]
     },
     "execution_count": 21,
     "metadata": {},
     "output_type": "execute_result"
    }
   ],
   "source": [
    "sub_off2017.index"
   ]
  },
  {
   "cell_type": "code",
   "execution_count": 22,
   "id": "295fd2c5-5c75-4337-9781-403fbaf024c7",
   "metadata": {
    "tags": []
   },
   "outputs": [
    {
     "data": {
      "text/plain": [
       "array([[20170101, '2호선', '봉천', 11169, 11198, 20170109],\n",
       "       [20170101, '2호선', '신림', 40137, 42005, 20170109],\n",
       "       [20170101, '2호선', '신대방', 16033, 16054, 20170109],\n",
       "       ...,\n",
       "       [20171231, '1호선', '시청', 17749, 17461, 20180103],\n",
       "       [20171231, '1호선', '서울역', 41637, 42623, 20180103],\n",
       "       [20171231, '우이신설선', '신설동', 913, 1031, 20180103]], dtype=object)"
      ]
     },
     "execution_count": 22,
     "metadata": {},
     "output_type": "execute_result"
    }
   ],
   "source": [
    "sub_off2017.values"
   ]
  },
  {
   "cell_type": "code",
   "execution_count": 23,
   "id": "391fe085-cbfa-4978-9de1-658f18fa61bc",
   "metadata": {
    "tags": []
   },
   "outputs": [
    {
     "data": {
      "text/plain": [
       "Index(['사용일자', '노선명', '역명', '승차총승객수', '하차총승객수', '등록일자'], dtype='object')"
      ]
     },
     "execution_count": 23,
     "metadata": {},
     "output_type": "execute_result"
    }
   ],
   "source": [
    "sub_off2017.columns"
   ]
  },
  {
   "cell_type": "code",
   "execution_count": 24,
   "id": "144841c7-09f3-4773-a3e9-e3f10a90d826",
   "metadata": {
    "tags": []
   },
   "outputs": [
    {
     "data": {
      "text/html": [
       "<div>\n",
       "<style scoped>\n",
       "    .dataframe tbody tr th:only-of-type {\n",
       "        vertical-align: middle;\n",
       "    }\n",
       "\n",
       "    .dataframe tbody tr th {\n",
       "        vertical-align: top;\n",
       "    }\n",
       "\n",
       "    .dataframe thead th {\n",
       "        text-align: right;\n",
       "    }\n",
       "</style>\n",
       "<table border=\"1\" class=\"dataframe\">\n",
       "  <thead>\n",
       "    <tr style=\"text-align: right;\">\n",
       "      <th></th>\n",
       "      <th>사용일자</th>\n",
       "      <th>노선명</th>\n",
       "      <th>역명</th>\n",
       "      <th>승차총승객수</th>\n",
       "      <th>하차총승객수</th>\n",
       "      <th>등록일자</th>\n",
       "    </tr>\n",
       "  </thead>\n",
       "  <tbody>\n",
       "    <tr>\n",
       "      <th>0</th>\n",
       "      <td>20170101</td>\n",
       "      <td>2호선</td>\n",
       "      <td>봉천</td>\n",
       "      <td>11169</td>\n",
       "      <td>11198</td>\n",
       "      <td>20170109</td>\n",
       "    </tr>\n",
       "    <tr>\n",
       "      <th>1</th>\n",
       "      <td>20170101</td>\n",
       "      <td>2호선</td>\n",
       "      <td>신림</td>\n",
       "      <td>40137</td>\n",
       "      <td>42005</td>\n",
       "      <td>20170109</td>\n",
       "    </tr>\n",
       "  </tbody>\n",
       "</table>\n",
       "</div>"
      ],
      "text/plain": [
       "       사용일자  노선명  역명  승차총승객수  하차총승객수      등록일자\n",
       "0  20170101  2호선  봉천   11169   11198  20170109\n",
       "1  20170101  2호선  신림   40137   42005  20170109"
      ]
     },
     "execution_count": 24,
     "metadata": {},
     "output_type": "execute_result"
    }
   ],
   "source": [
    "sub_off2017.head(2)"
   ]
  },
  {
   "cell_type": "code",
   "execution_count": 25,
   "id": "a4f6ae9f-01d4-45d9-8c45-2ea5883f2e56",
   "metadata": {
    "tags": []
   },
   "outputs": [
    {
     "data": {
      "text/html": [
       "<div>\n",
       "<style scoped>\n",
       "    .dataframe tbody tr th:only-of-type {\n",
       "        vertical-align: middle;\n",
       "    }\n",
       "\n",
       "    .dataframe tbody tr th {\n",
       "        vertical-align: top;\n",
       "    }\n",
       "\n",
       "    .dataframe thead th {\n",
       "        text-align: right;\n",
       "    }\n",
       "</style>\n",
       "<table border=\"1\" class=\"dataframe\">\n",
       "  <thead>\n",
       "    <tr style=\"text-align: right;\">\n",
       "      <th></th>\n",
       "      <th>사용일자</th>\n",
       "      <th>노선명</th>\n",
       "      <th>역명</th>\n",
       "      <th>승차총승객수</th>\n",
       "      <th>하차총승객수</th>\n",
       "      <th>등록일자</th>\n",
       "    </tr>\n",
       "  </thead>\n",
       "  <tbody>\n",
       "    <tr>\n",
       "      <th>208255</th>\n",
       "      <td>20171231</td>\n",
       "      <td>1호선</td>\n",
       "      <td>서울역</td>\n",
       "      <td>41637</td>\n",
       "      <td>42623</td>\n",
       "      <td>20180103</td>\n",
       "    </tr>\n",
       "    <tr>\n",
       "      <th>208256</th>\n",
       "      <td>20171231</td>\n",
       "      <td>우이신설선</td>\n",
       "      <td>신설동</td>\n",
       "      <td>913</td>\n",
       "      <td>1031</td>\n",
       "      <td>20180103</td>\n",
       "    </tr>\n",
       "  </tbody>\n",
       "</table>\n",
       "</div>"
      ],
      "text/plain": [
       "            사용일자    노선명   역명  승차총승객수  하차총승객수      등록일자\n",
       "208255  20171231    1호선  서울역   41637   42623  20180103\n",
       "208256  20171231  우이신설선  신설동     913    1031  20180103"
      ]
     },
     "execution_count": 25,
     "metadata": {},
     "output_type": "execute_result"
    }
   ],
   "source": [
    "sub_off2017.tail(2)"
   ]
  },
  {
   "cell_type": "code",
   "execution_count": 26,
   "id": "127306c4-67de-4b26-8234-92fa77b12134",
   "metadata": {
    "tags": []
   },
   "outputs": [
    {
     "data": {
      "text/plain": [
       "503"
      ]
     },
     "execution_count": 26,
     "metadata": {},
     "output_type": "execute_result"
    }
   ],
   "source": [
    "# 총 지하철역 개수 파악\n",
    "sub_off2017['역명'].nunique()"
   ]
  },
  {
   "cell_type": "markdown",
   "id": "552bf741-017c-4173-b8e0-6fd40516af66",
   "metadata": {
    "tags": []
   },
   "source": [
    "## 2. 데이터 정제 및 저장"
   ]
  },
  {
   "cell_type": "code",
   "execution_count": 27,
   "id": "e427bcba-ca20-4ce7-a0d2-a99241b6be7d",
   "metadata": {},
   "outputs": [],
   "source": [
    "# 불필요한 칼럼 제거\n",
    "sub_off2017.drop(['노선명', '승차총승객수', '등록일자'], axis=1, inplace=True)"
   ]
  },
  {
   "cell_type": "code",
   "execution_count": 28,
   "id": "e386e1d4-dfdf-4676-960d-3778d32d407f",
   "metadata": {},
   "outputs": [],
   "source": [
    "# `역명` 칼럼을 기준으로 sub_off2017에 sub_yx에서 역명에 일치하는 위도, 경도값, 행정구역 명 병합\n",
    "sub_2017 = sub_off2017.merge(sub_yx, on='역명', how='left')"
   ]
  },
  {
   "cell_type": "code",
   "execution_count": 29,
   "id": "ff33870b-4015-44f7-994a-9281ae8bd3cb",
   "metadata": {},
   "outputs": [],
   "source": [
    "# 주소값이 매칭되지 않아서 서울시 이외의 `역명` 컬럼에 null 값이 들어간 행 제거\n",
    "sub_2017.dropna(axis=0, inplace = True)"
   ]
  },
  {
   "cell_type": "code",
   "execution_count": 30,
   "id": "9141cf3f-0a27-4802-b9ad-c6f9e1a11a9b",
   "metadata": {
    "tags": []
   },
   "outputs": [
    {
     "data": {
      "text/html": [
       "<div>\n",
       "<style scoped>\n",
       "    .dataframe tbody tr th:only-of-type {\n",
       "        vertical-align: middle;\n",
       "    }\n",
       "\n",
       "    .dataframe tbody tr th {\n",
       "        vertical-align: top;\n",
       "    }\n",
       "\n",
       "    .dataframe thead th {\n",
       "        text-align: right;\n",
       "    }\n",
       "</style>\n",
       "<table border=\"1\" class=\"dataframe\">\n",
       "  <thead>\n",
       "    <tr style=\"text-align: right;\">\n",
       "      <th></th>\n",
       "      <th>사용일자</th>\n",
       "      <th>역명</th>\n",
       "      <th>하차총승객수</th>\n",
       "      <th>Y좌표</th>\n",
       "      <th>X좌표</th>\n",
       "      <th>주소</th>\n",
       "      <th>구</th>\n",
       "      <th>동</th>\n",
       "    </tr>\n",
       "  </thead>\n",
       "  <tbody>\n",
       "    <tr>\n",
       "      <th>0</th>\n",
       "      <td>20170101</td>\n",
       "      <td>봉천</td>\n",
       "      <td>11198</td>\n",
       "      <td>37.482362</td>\n",
       "      <td>126.941892</td>\n",
       "      <td>서울특별시 관악구 봉천동</td>\n",
       "      <td>관악구</td>\n",
       "      <td>봉천동</td>\n",
       "    </tr>\n",
       "    <tr>\n",
       "      <th>1</th>\n",
       "      <td>20170101</td>\n",
       "      <td>신림</td>\n",
       "      <td>42005</td>\n",
       "      <td>37.484201</td>\n",
       "      <td>126.929715</td>\n",
       "      <td>서울특별시 관악구 신림동</td>\n",
       "      <td>관악구</td>\n",
       "      <td>신림동</td>\n",
       "    </tr>\n",
       "  </tbody>\n",
       "</table>\n",
       "</div>"
      ],
      "text/plain": [
       "       사용일자  역명  하차총승객수        Y좌표         X좌표             주소    구    동\n",
       "0  20170101  봉천   11198  37.482362  126.941892  서울특별시 관악구 봉천동  관악구  봉천동\n",
       "1  20170101  신림   42005  37.484201  126.929715  서울특별시 관악구 신림동  관악구  신림동"
      ]
     },
     "execution_count": 30,
     "metadata": {},
     "output_type": "execute_result"
    }
   ],
   "source": [
    "sub_2017.head(2)"
   ]
  },
  {
   "cell_type": "code",
   "execution_count": 31,
   "id": "093368aa-84c1-4da3-bb02-758aea9e5eab",
   "metadata": {
    "tags": []
   },
   "outputs": [
    {
     "name": "stdout",
     "output_type": "stream",
     "text": [
      "<class 'pandas.core.frame.DataFrame'>\n",
      "Int64Index: 130030 entries, 0 to 208986\n",
      "Data columns (total 8 columns):\n",
      " #   Column  Non-Null Count   Dtype  \n",
      "---  ------  --------------   -----  \n",
      " 0   사용일자    130030 non-null  int64  \n",
      " 1   역명      130030 non-null  object \n",
      " 2   하차총승객수  130030 non-null  int64  \n",
      " 3   Y좌표     130030 non-null  float64\n",
      " 4   X좌표     130030 non-null  float64\n",
      " 5   주소      130030 non-null  object \n",
      " 6   구       130030 non-null  object \n",
      " 7   동       130030 non-null  object \n",
      "dtypes: float64(2), int64(2), object(4)\n",
      "memory usage: 8.9+ MB\n"
     ]
    }
   ],
   "source": [
    "sub_2017.info()"
   ]
  },
  {
   "cell_type": "code",
   "execution_count": 32,
   "id": "2b440a9a-632a-4d2a-bcc6-9be98850e2df",
   "metadata": {},
   "outputs": [
    {
     "data": {
      "text/plain": [
       "289"
      ]
     },
     "execution_count": 32,
     "metadata": {},
     "output_type": "execute_result"
    }
   ],
   "source": [
    "sub_2017['역명'].nunique()"
   ]
  },
  {
   "cell_type": "code",
   "execution_count": 33,
   "id": "8de9c584-233e-4989-b101-b4e9738df4b8",
   "metadata": {},
   "outputs": [],
   "source": [
    "# `int64` 타입이였던 `사용일자` 컬럼의 데이터들을 `string` 타입으로 변환 한 후에 \n",
    "# 인덱싱을 통해 `년`, `월`, `일` 형태에 맞게 컬럼으로 추가\n",
    "sub_2017['년'] = sub_2017['사용일자'].astype('string').str[:4]\n",
    "sub_2017['월'] = sub_2017['사용일자'].astype('string').str[4:6]\n",
    "sub_2017['일'] = sub_2017['사용일자'].astype('string').str[6:]"
   ]
  },
  {
   "cell_type": "code",
   "execution_count": 34,
   "id": "5581dce1-b4e8-44c4-bdc1-9ce8403ebdbb",
   "metadata": {},
   "outputs": [],
   "source": [
    "# 컬럼의 순서를 다른 데이터와 합치기 좋게 배치\n",
    "sub_2017 = sub_2017[['사용일자', '년', '월', '일', '역명', '하차총승객수', 'X좌표', 'Y좌표', '주소', '구', '동']]"
   ]
  },
  {
   "cell_type": "code",
   "execution_count": 35,
   "id": "64b6a77e-d594-4608-b30b-6e07b67d24f6",
   "metadata": {},
   "outputs": [
    {
     "data": {
      "text/plain": [
       "0"
      ]
     },
     "execution_count": 35,
     "metadata": {},
     "output_type": "execute_result"
    }
   ],
   "source": [
    "# `역명` 컬럼에 혹시나 좌표값이 들어가지 않은 열이 있는지 `isnull`을 통해서 검토\n",
    "sub_2017['역명'].isnull().sum()"
   ]
  },
  {
   "cell_type": "code",
   "execution_count": 36,
   "id": "7fd0f157-824f-4735-90d1-ccd5c75c4415",
   "metadata": {},
   "outputs": [],
   "source": [
    "# 만약 `역명` 컬럼에 `null`이 있는지 `isnull`로 개수를 알아봤다면\n",
    "# `null` 값이 들어간 해당 열이 어딘지 확인\n",
    "# sub_2017[sub_2017['역명'].isnull()]"
   ]
  },
  {
   "cell_type": "code",
   "execution_count": 37,
   "id": "a0b2c3ba-624f-4534-bfe0-6219f4576897",
   "metadata": {},
   "outputs": [
    {
     "data": {
      "text/html": [
       "<div>\n",
       "<style scoped>\n",
       "    .dataframe tbody tr th:only-of-type {\n",
       "        vertical-align: middle;\n",
       "    }\n",
       "\n",
       "    .dataframe tbody tr th {\n",
       "        vertical-align: top;\n",
       "    }\n",
       "\n",
       "    .dataframe thead th {\n",
       "        text-align: right;\n",
       "    }\n",
       "</style>\n",
       "<table border=\"1\" class=\"dataframe\">\n",
       "  <thead>\n",
       "    <tr style=\"text-align: right;\">\n",
       "      <th></th>\n",
       "      <th>사용일자</th>\n",
       "      <th>년</th>\n",
       "      <th>월</th>\n",
       "      <th>일</th>\n",
       "      <th>역명</th>\n",
       "      <th>하차총승객수</th>\n",
       "      <th>X좌표</th>\n",
       "      <th>Y좌표</th>\n",
       "      <th>주소</th>\n",
       "      <th>구</th>\n",
       "      <th>동</th>\n",
       "    </tr>\n",
       "  </thead>\n",
       "  <tbody>\n",
       "    <tr>\n",
       "      <th>0</th>\n",
       "      <td>20170101</td>\n",
       "      <td>2017</td>\n",
       "      <td>01</td>\n",
       "      <td>01</td>\n",
       "      <td>봉천</td>\n",
       "      <td>11198</td>\n",
       "      <td>126.941892</td>\n",
       "      <td>37.482362</td>\n",
       "      <td>서울특별시 관악구 봉천동</td>\n",
       "      <td>관악구</td>\n",
       "      <td>봉천동</td>\n",
       "    </tr>\n",
       "    <tr>\n",
       "      <th>1</th>\n",
       "      <td>20170101</td>\n",
       "      <td>2017</td>\n",
       "      <td>01</td>\n",
       "      <td>01</td>\n",
       "      <td>신림</td>\n",
       "      <td>42005</td>\n",
       "      <td>126.929715</td>\n",
       "      <td>37.484201</td>\n",
       "      <td>서울특별시 관악구 신림동</td>\n",
       "      <td>관악구</td>\n",
       "      <td>신림동</td>\n",
       "    </tr>\n",
       "    <tr>\n",
       "      <th>2</th>\n",
       "      <td>20170101</td>\n",
       "      <td>2017</td>\n",
       "      <td>01</td>\n",
       "      <td>01</td>\n",
       "      <td>신대방</td>\n",
       "      <td>16054</td>\n",
       "      <td>126.913149</td>\n",
       "      <td>37.487462</td>\n",
       "      <td>서울특별시 관악구 신림동</td>\n",
       "      <td>관악구</td>\n",
       "      <td>신림동</td>\n",
       "    </tr>\n",
       "    <tr>\n",
       "      <th>3</th>\n",
       "      <td>20170101</td>\n",
       "      <td>2017</td>\n",
       "      <td>01</td>\n",
       "      <td>01</td>\n",
       "      <td>구로디지털단지</td>\n",
       "      <td>28497</td>\n",
       "      <td>126.901401</td>\n",
       "      <td>37.485266</td>\n",
       "      <td>서울특별시 구로구 구로동</td>\n",
       "      <td>구로구</td>\n",
       "      <td>구로동</td>\n",
       "    </tr>\n",
       "    <tr>\n",
       "      <th>4</th>\n",
       "      <td>20170101</td>\n",
       "      <td>2017</td>\n",
       "      <td>01</td>\n",
       "      <td>01</td>\n",
       "      <td>대림(구로구청)</td>\n",
       "      <td>21926</td>\n",
       "      <td>126.895801</td>\n",
       "      <td>37.492970</td>\n",
       "      <td>서울특별시 영등포구 대림동</td>\n",
       "      <td>영등포구</td>\n",
       "      <td>대림동</td>\n",
       "    </tr>\n",
       "  </tbody>\n",
       "</table>\n",
       "</div>"
      ],
      "text/plain": [
       "       사용일자     년   월   일        역명  하차총승객수         X좌표        Y좌표  \\\n",
       "0  20170101  2017  01  01        봉천   11198  126.941892  37.482362   \n",
       "1  20170101  2017  01  01        신림   42005  126.929715  37.484201   \n",
       "2  20170101  2017  01  01       신대방   16054  126.913149  37.487462   \n",
       "3  20170101  2017  01  01   구로디지털단지   28497  126.901401  37.485266   \n",
       "4  20170101  2017  01  01  대림(구로구청)   21926  126.895801  37.492970   \n",
       "\n",
       "               주소     구    동  \n",
       "0   서울특별시 관악구 봉천동   관악구  봉천동  \n",
       "1   서울특별시 관악구 신림동   관악구  신림동  \n",
       "2   서울특별시 관악구 신림동   관악구  신림동  \n",
       "3   서울특별시 구로구 구로동   구로구  구로동  \n",
       "4  서울특별시 영등포구 대림동  영등포구  대림동  "
      ]
     },
     "execution_count": 37,
     "metadata": {},
     "output_type": "execute_result"
    }
   ],
   "source": [
    "# 정제가 끝난 후 파일을 마지막으로 df 검토\n",
    "sub_2017.head()"
   ]
  },
  {
   "cell_type": "code",
   "execution_count": 39,
   "id": "b9760d54-4603-4fbb-9be4-7ee88d0b46bb",
   "metadata": {},
   "outputs": [],
   "source": [
    "# 정제한 데이터프레임을 csv 파일 형식으로 저장\n",
    "sub_2017.to_csv('data/subway_total/2017년_지하철데이터.csv',index=False)"
   ]
  },
  {
   "cell_type": "markdown",
   "id": "1849d149-151a-4141-9f63-d9d0c8a7e679",
   "metadata": {},
   "source": [
    "# 2018년 지하철데이터 생성"
   ]
  },
  {
   "cell_type": "markdown",
   "id": "242bc9c2-60bd-4101-b65a-676ec39be613",
   "metadata": {},
   "source": [
    "- ( 2018 ~ 2021 년도 ) 데이터 정제 방식은 위의 2017 년도의 과정과 모두 동일\n",
    "\n",
    "- 2018 년도 `서울역` 승하차 인원 데이터만 원본 데이터에도 기록이 제대로 안된 부분들이 있음"
   ]
  },
  {
   "cell_type": "code",
   "execution_count": 40,
   "id": "6b426058-8d99-4033-b42d-6560b42afb1a",
   "metadata": {},
   "outputs": [],
   "source": [
    "csvfiles = glob.glob('data/subway_day/2018/*.csv')\n",
    "sub_off2018 = pd.DataFrame()\n",
    "\n",
    "for csvfile in csvfiles:\n",
    "    tmp = pd.read_csv(csvfile, encoding='cp949', low_memory = False)\n",
    "    sub_off2018 = pd.concat([sub_off2018, tmp])\n",
    "    \n",
    "sub_off2018.reset_index(drop=True, inplace=True)"
   ]
  },
  {
   "cell_type": "code",
   "execution_count": 41,
   "id": "0be06963-1501-42db-a35c-a9e3756043a5",
   "metadata": {},
   "outputs": [],
   "source": [
    "sub_off2018.drop(['노선명', '승차총승객수', '등록일자'], axis=1, inplace=True)"
   ]
  },
  {
   "cell_type": "code",
   "execution_count": 42,
   "id": "a97d9d9e-88d8-4c0b-8f20-7c1ee52b396d",
   "metadata": {},
   "outputs": [],
   "source": [
    "sub_2018 = sub_off2018.merge(sub_yx, on='역명')"
   ]
  },
  {
   "cell_type": "code",
   "execution_count": 43,
   "id": "e787d0fa-1dbb-40aa-ba47-ff4a7f2a8148",
   "metadata": {
    "tags": []
   },
   "outputs": [],
   "source": [
    "sub_2018.dropna(axis=0, inplace = True)"
   ]
  },
  {
   "cell_type": "code",
   "execution_count": 44,
   "id": "b4f35b4b-6295-45ae-9426-af174b5c50f1",
   "metadata": {},
   "outputs": [],
   "source": [
    "sub_2018['년'] = sub_2018['사용일자'].astype('string').str[:4]\n",
    "sub_2018['월'] = sub_2018['사용일자'].astype('string').str[4:6]\n",
    "sub_2018['일'] = sub_2018['사용일자'].astype('string').str[6:]"
   ]
  },
  {
   "cell_type": "code",
   "execution_count": 45,
   "id": "e61254b0-5b97-437f-83ca-12d544a1fc27",
   "metadata": {},
   "outputs": [],
   "source": [
    "sub_2018 = sub_2018[['사용일자', '년', '월', '일', '역명', '하차총승객수', 'X좌표', 'Y좌표', '주소', '구', '동']]"
   ]
  },
  {
   "cell_type": "code",
   "execution_count": 46,
   "id": "edaab47c-62b8-499f-91d3-8ff9f2e76456",
   "metadata": {},
   "outputs": [],
   "source": [
    "sub_2018.to_csv('data/subway_total/2018년_지하철데이터.csv',index=False)"
   ]
  },
  {
   "cell_type": "markdown",
   "id": "12e29995-fb1d-4126-ab85-e25a5eccc260",
   "metadata": {
    "tags": []
   },
   "source": [
    "# 2019년 지하철데이터 생성"
   ]
  },
  {
   "cell_type": "code",
   "execution_count": 47,
   "id": "0e44f1ad-fe37-4379-97ef-ac9d0c04c906",
   "metadata": {},
   "outputs": [],
   "source": [
    "csvfiles = glob.glob('data/subway_day/2019/*.csv')\n",
    "sub_off2019 = pd.DataFrame()\n",
    "\n",
    "for csvfile in csvfiles:\n",
    "    tmp = pd.read_csv(csvfile, encoding='cp949', low_memory = False)\n",
    "    sub_off2019 = pd.concat([sub_off2019, tmp])\n",
    "    \n",
    "sub_off2019.reset_index(drop=True, inplace=True)"
   ]
  },
  {
   "cell_type": "code",
   "execution_count": 48,
   "id": "8a2d7517-3948-4711-b8cb-09623579c0b8",
   "metadata": {
    "tags": []
   },
   "outputs": [],
   "source": [
    "sub_off2019.drop(['노선명', '승차총승객수', '등록일자'], axis=1, inplace=True)"
   ]
  },
  {
   "cell_type": "code",
   "execution_count": 49,
   "id": "9635e72c-f350-4def-bfd4-75c55e7f07ea",
   "metadata": {},
   "outputs": [],
   "source": [
    "sub_2019 = sub_off2019.merge(sub_yx, on='역명')"
   ]
  },
  {
   "cell_type": "code",
   "execution_count": 50,
   "id": "b8f6dc81-cc0f-4f19-9817-2cc8fd0fec08",
   "metadata": {
    "tags": []
   },
   "outputs": [],
   "source": [
    "sub_2019.dropna(axis=0, inplace = True)"
   ]
  },
  {
   "cell_type": "code",
   "execution_count": 51,
   "id": "dce0a1b4-0d14-4ec7-8832-aafd0e310ba5",
   "metadata": {},
   "outputs": [],
   "source": [
    "sub_2019['년'] = sub_2019['사용일자'].astype('string').str[:4]\n",
    "sub_2019['월'] = sub_2019['사용일자'].astype('string').str[4:6]\n",
    "sub_2019['일'] = sub_2019['사용일자'].astype('string').str[6:]"
   ]
  },
  {
   "cell_type": "code",
   "execution_count": 52,
   "id": "87cebdf8-48b8-4115-986c-d58d411dd81e",
   "metadata": {},
   "outputs": [],
   "source": [
    "sub_2019 = sub_2019[['사용일자', '년', '월', '일', '역명', '하차총승객수', 'X좌표', 'Y좌표', '주소', '구', '동']]"
   ]
  },
  {
   "cell_type": "code",
   "execution_count": 53,
   "id": "00eba676-294a-4aed-801d-eeca72d8adc8",
   "metadata": {},
   "outputs": [],
   "source": [
    "sub_2019.to_csv('data/subway_total/2019년_지하철데이터.csv',index=False)"
   ]
  },
  {
   "cell_type": "markdown",
   "id": "f575e668-d57a-4dce-bde0-abaade298d38",
   "metadata": {
    "tags": []
   },
   "source": [
    "# 2020년 지하철데이터 생성"
   ]
  },
  {
   "cell_type": "code",
   "execution_count": 54,
   "id": "4ab3c024-832e-4464-81ce-849176210fdc",
   "metadata": {
    "tags": []
   },
   "outputs": [],
   "source": [
    "csvfiles = glob.glob('data/subway_day/2020/*.csv')\n",
    "sub_off2020 = pd.DataFrame()\n",
    "\n",
    "for csvfile in csvfiles:\n",
    "    tmp = pd.read_csv(csvfile, encoding='cp949', low_memory = False)\n",
    "    sub_off2020 = pd.concat([sub_off2020, tmp])\n",
    "    \n",
    "sub_off2020.reset_index(drop=True, inplace=True)"
   ]
  },
  {
   "cell_type": "code",
   "execution_count": 55,
   "id": "2d05037b-565f-41ec-9177-2ea3481261f1",
   "metadata": {},
   "outputs": [],
   "source": [
    "sub_off2020.drop(['노선명', '승차총승객수', '등록일자'], axis=1, inplace=True)"
   ]
  },
  {
   "cell_type": "code",
   "execution_count": 56,
   "id": "313ad42a-838b-4a03-8c16-6a2a85ee454e",
   "metadata": {},
   "outputs": [],
   "source": [
    "sub_2020 = sub_off2020.merge(sub_yx, on='역명')"
   ]
  },
  {
   "cell_type": "code",
   "execution_count": 57,
   "id": "5753aaef-4942-453d-9362-6e3e04a5da4c",
   "metadata": {
    "tags": []
   },
   "outputs": [],
   "source": [
    "sub_2020.dropna(axis=0, inplace = True)"
   ]
  },
  {
   "cell_type": "code",
   "execution_count": 58,
   "id": "8a32ac38-6ac3-4a07-b140-b94e93a7182e",
   "metadata": {},
   "outputs": [],
   "source": [
    "sub_2020['년'] = sub_2020['사용일자'].astype('string').str[:4]\n",
    "sub_2020['월'] = sub_2020['사용일자'].astype('string').str[4:6]\n",
    "sub_2020['일'] = sub_2020['사용일자'].astype('string').str[6:]"
   ]
  },
  {
   "cell_type": "code",
   "execution_count": 59,
   "id": "d86af14b-0558-4302-b3f0-939098e702fc",
   "metadata": {},
   "outputs": [],
   "source": [
    "sub_2020 = sub_2020[['사용일자', '년', '월', '일', '역명', '하차총승객수', 'X좌표', 'Y좌표', '주소', '구', '동']]"
   ]
  },
  {
   "cell_type": "code",
   "execution_count": 60,
   "id": "9af3acd3-d4d6-4b61-87dd-830c8094d9fe",
   "metadata": {},
   "outputs": [],
   "source": [
    "sub_2020.to_csv('data/subway_total/2020년_지하철데이터.csv',index=False)"
   ]
  },
  {
   "cell_type": "markdown",
   "id": "628a1b57-ede7-4c14-9729-05273e0105f2",
   "metadata": {
    "tags": []
   },
   "source": [
    "# 2021년 지하철데이터 생성"
   ]
  },
  {
   "cell_type": "code",
   "execution_count": 61,
   "id": "fc4c0edd-e2ec-4901-9c9e-c5e9c930d77b",
   "metadata": {},
   "outputs": [],
   "source": [
    "csvfiles = glob.glob('data/subway_day/2021/*.csv')\n",
    "sub_off2021 = pd.DataFrame()\n",
    "\n",
    "for csvfile in csvfiles:\n",
    "    tmp = pd.read_csv(csvfile, encoding='cp949', low_memory = False)\n",
    "    sub_off2021 = pd.concat([sub_off2021, tmp])\n",
    "    \n",
    "sub_off2021.reset_index(drop=True, inplace=True)"
   ]
  },
  {
   "cell_type": "code",
   "execution_count": 62,
   "id": "ca2f2b93-1a17-463f-ae92-6c32124b6502",
   "metadata": {
    "tags": []
   },
   "outputs": [],
   "source": [
    "sub_off2021.drop(['노선명', '승차총승객수', '등록일자'], axis=1, inplace=True)"
   ]
  },
  {
   "cell_type": "code",
   "execution_count": 63,
   "id": "01f83bbf-cb3e-4826-8400-8b6bd095c66e",
   "metadata": {},
   "outputs": [],
   "source": [
    "sub_2021 = sub_off2021.merge(sub_yx, on='역명')"
   ]
  },
  {
   "cell_type": "code",
   "execution_count": 64,
   "id": "8ca0eff9-1dc5-4770-beab-e2ec52cb4d0e",
   "metadata": {
    "tags": []
   },
   "outputs": [],
   "source": [
    "sub_2021.dropna(axis=0, inplace = True)"
   ]
  },
  {
   "cell_type": "code",
   "execution_count": 65,
   "id": "22026421-0ed8-4ead-93c9-3983777de19e",
   "metadata": {},
   "outputs": [],
   "source": [
    "sub_2021['년'] = sub_2021['사용일자'].astype('string').str[:4]\n",
    "sub_2021['월'] = sub_2021['사용일자'].astype('string').str[4:6]\n",
    "sub_2021['일'] = sub_2021['사용일자'].astype('string').str[6:]"
   ]
  },
  {
   "cell_type": "code",
   "execution_count": 66,
   "id": "f2d5c16c-d4c9-42f0-abb7-f446b4c42215",
   "metadata": {},
   "outputs": [],
   "source": [
    "sub_2021 = sub_2021[['사용일자', '년', '월', '일', '역명', '하차총승객수', 'X좌표', 'Y좌표', '주소', '구', '동']]"
   ]
  },
  {
   "cell_type": "code",
   "execution_count": 67,
   "id": "28435057-ff1e-4e08-abb4-41bd939c12be",
   "metadata": {},
   "outputs": [],
   "source": [
    "sub_2021.to_csv('data/subway_total/2021년_지하철데이터.csv',index=False)"
   ]
  }
 ],
 "metadata": {
  "kernelspec": {
   "display_name": "Python 3 (ipykernel)",
   "language": "python",
   "name": "python3"
  },
  "language_info": {
   "codemirror_mode": {
    "name": "ipython",
    "version": 3
   },
   "file_extension": ".py",
   "mimetype": "text/x-python",
   "name": "python",
   "nbconvert_exporter": "python",
   "pygments_lexer": "ipython3",
   "version": "3.9.13"
  }
 },
 "nbformat": 4,
 "nbformat_minor": 5
}
