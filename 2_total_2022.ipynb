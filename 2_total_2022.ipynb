{
 "cells": [
  {
   "cell_type": "code",
   "execution_count": 1,
   "id": "7774a262-c847-4bbc-9288-2cc89f93da3b",
   "metadata": {},
   "outputs": [],
   "source": [
    "import pandas as pd\n",
    "import matplotlib.pyplot as plt\n",
    "import seaborn as sns"
   ]
  },
  {
   "cell_type": "code",
   "execution_count": 2,
   "id": "b68470ef-7fb2-43f1-a70e-8e8fa43244fd",
   "metadata": {},
   "outputs": [],
   "source": [
    "df_2017 = pd.read_csv('data/subway_time/subway_time_2017.csv', encoding='cp949')\n",
    "df_2018 = pd.read_csv('data/subway_time/subway_time_2018.csv', encoding='cp949')\n",
    "df_2019 = pd.read_csv('data/subway_time/subway_time_2019.csv', encoding='cp949')\n",
    "df_2020 = pd.read_csv('data/subway_time/subway_time_2020.csv', encoding='cp949')\n",
    "df_2021 = pd.read_csv('data/subway_time/subway_time_2021.csv', encoding='cp949')\n",
    "df_2022_08 = pd.read_csv('data/subway_time/subway_time_2022.csv', encoding='cp949')"
   ]
  },
  {
   "cell_type": "markdown",
   "id": "13d75752-9ff1-4231-bbf5-004e5cd98a62",
   "metadata": {
    "tags": []
   },
   "source": [
    "# 8월까지 총 하차인원수"
   ]
  },
  {
   "cell_type": "code",
   "execution_count": 7,
   "id": "9bbf0fdb-6f7d-42a5-9e1d-a484484e821b",
   "metadata": {
    "tags": []
   },
   "outputs": [],
   "source": [
    "df_2017['날짜'] = pd.to_datetime(df_2017['날짜'])"
   ]
  },
  {
   "cell_type": "code",
   "execution_count": 9,
   "id": "47dc1460-019c-4a8a-9934-fa547b924644",
   "metadata": {},
   "outputs": [],
   "source": [
    "total_201708 = df_2017[df_2017['날짜'] <= '2017-08-31']"
   ]
  },
  {
   "cell_type": "code",
   "execution_count": 10,
   "id": "db452778-d983-44e8-aedf-eef91a9d25ea",
   "metadata": {},
   "outputs": [
    {
     "data": {
      "text/plain": [
       "Index(['날짜', '역명', '05~06', '06~07', '07~08', '08~09', '09~10', '10~11',\n",
       "       '11~12', '12~13', '13~14', '14~15', '15~16', '16~17', '17~18', '18~19',\n",
       "       '19~20', '20~21', '21~22', '22~23', '23~24', '00~01'],\n",
       "      dtype='object')"
      ]
     },
     "execution_count": 10,
     "metadata": {},
     "output_type": "execute_result"
    }
   ],
   "source": [
    "total_201708.columns"
   ]
  },
  {
   "cell_type": "code",
   "execution_count": 14,
   "id": "03ab79b8-b5dd-453c-a2f6-af01d9ed29c2",
   "metadata": {},
   "outputs": [
    {
     "name": "stderr",
     "output_type": "stream",
     "text": [
      "C:\\Users\\user\\AppData\\Local\\Temp\\ipykernel_11128\\1493698674.py:1: SettingWithCopyWarning: \n",
      "A value is trying to be set on a copy of a slice from a DataFrame.\n",
      "Try using .loc[row_indexer,col_indexer] = value instead\n",
      "\n",
      "See the caveats in the documentation: https://pandas.pydata.org/pandas-docs/stable/user_guide/indexing.html#returning-a-view-versus-a-copy\n",
      "  total_201708['계'] = total_201708[['05~06', '06~07', '07~08', '08~09', '09~10', '10~11',\n"
     ]
    }
   ],
   "source": [
    "total_201708['계'] = total_201708[['05~06', '06~07', '07~08', '08~09', '09~10', '10~11',\n",
    "       '11~12', '12~13', '13~14', '14~15', '15~16', '16~17', '17~18', '18~19',\n",
    "       '19~20', '20~21', '21~22', '22~23', '23~24', '00~01']].sum(axis=1)"
   ]
  },
  {
   "cell_type": "code",
   "execution_count": 17,
   "id": "2ea2feab-79f8-4134-ac5a-fd8030031702",
   "metadata": {},
   "outputs": [],
   "source": [
    "num201708 = total_201708['계'].sum()"
   ]
  },
  {
   "cell_type": "markdown",
   "id": "73e07643-eaba-40da-a893-1d67c570e299",
   "metadata": {},
   "source": []
  },
  {
   "cell_type": "code",
   "execution_count": 25,
   "id": "71a47b5d-bf63-4180-a9c2-e1990bcef142",
   "metadata": {
    "tags": []
   },
   "outputs": [
    {
     "name": "stderr",
     "output_type": "stream",
     "text": [
      "C:\\Users\\user\\AppData\\Local\\Temp\\ipykernel_11128\\2420034026.py:5: SettingWithCopyWarning: \n",
      "A value is trying to be set on a copy of a slice from a DataFrame.\n",
      "Try using .loc[row_indexer,col_indexer] = value instead\n",
      "\n",
      "See the caveats in the documentation: https://pandas.pydata.org/pandas-docs/stable/user_guide/indexing.html#returning-a-view-versus-a-copy\n",
      "  total_201908['계'] = total_201908[['05~06', '06~07', '07~08', '08~09', '09~10', '10~11',\n"
     ]
    }
   ],
   "source": [
    "df_2019['날짜'] = pd.to_datetime(df_2019['날짜'])\n",
    "\n",
    "total_201908 = df_2019[df_2019['날짜'] <= '2019-08-31']\n",
    "\n",
    "total_201908['계'] = total_201908[['05~06', '06~07', '07~08', '08~09', '09~10', '10~11',\n",
    "       '11~12', '12~13', '13~14', '14~15', '15~16', '16~17', '17~18', '18~19',\n",
    "       '19~20', '20~21', '21~22', '22~23', '23~24', '00~01']].sum(axis=1)\n",
    "\n",
    "num201908 = total_201908['계'].sum()"
   ]
  },
  {
   "cell_type": "code",
   "execution_count": 26,
   "id": "4fdd00a4-1e25-41b6-a5a9-6e084bb7a340",
   "metadata": {
    "tags": []
   },
   "outputs": [
    {
     "name": "stderr",
     "output_type": "stream",
     "text": [
      "C:\\Users\\user\\AppData\\Local\\Temp\\ipykernel_11128\\1398378536.py:5: SettingWithCopyWarning: \n",
      "A value is trying to be set on a copy of a slice from a DataFrame.\n",
      "Try using .loc[row_indexer,col_indexer] = value instead\n",
      "\n",
      "See the caveats in the documentation: https://pandas.pydata.org/pandas-docs/stable/user_guide/indexing.html#returning-a-view-versus-a-copy\n",
      "  total_202008['계'] = total_202008[['05~06', '06~07', '07~08', '08~09', '09~10', '10~11',\n"
     ]
    }
   ],
   "source": [
    "df_2020['날짜'] = pd.to_datetime(df_2020['날짜'])\n",
    "\n",
    "total_202008 = df_2020[df_2020['날짜'] <= '2020-08-31']\n",
    "\n",
    "total_202008['계'] = total_202008[['05~06', '06~07', '07~08', '08~09', '09~10', '10~11',\n",
    "       '11~12', '12~13', '13~14', '14~15', '15~16', '16~17', '17~18', '18~19',\n",
    "       '19~20', '20~21', '21~22', '22~23', '23~24', '00~01']].sum(axis=1)\n",
    "\n",
    "num202008 = total_202008['계'].sum()"
   ]
  },
  {
   "cell_type": "code",
   "execution_count": 27,
   "id": "275d78dd-0000-4f10-b00c-37111184e5d0",
   "metadata": {
    "tags": []
   },
   "outputs": [
    {
     "name": "stderr",
     "output_type": "stream",
     "text": [
      "C:\\Users\\user\\AppData\\Local\\Temp\\ipykernel_11128\\3340526558.py:5: SettingWithCopyWarning: \n",
      "A value is trying to be set on a copy of a slice from a DataFrame.\n",
      "Try using .loc[row_indexer,col_indexer] = value instead\n",
      "\n",
      "See the caveats in the documentation: https://pandas.pydata.org/pandas-docs/stable/user_guide/indexing.html#returning-a-view-versus-a-copy\n",
      "  total_202108['계'] = total_202108[['05~06', '06~07', '07~08', '08~09', '09~10', '10~11',\n"
     ]
    }
   ],
   "source": [
    "df_2021['날짜'] = pd.to_datetime(df_2021['날짜'])\n",
    "\n",
    "total_202108 = df_2021[df_2021['날짜'] <= '2021-08-31']\n",
    "\n",
    "total_202108['계'] = total_202108[['05~06', '06~07', '07~08', '08~09', '09~10', '10~11',\n",
    "       '11~12', '12~13', '13~14', '14~15', '15~16', '16~17', '17~18', '18~19',\n",
    "       '19~20', '20~21', '21~22', '22~23', '23~24']].sum(axis=1)\n",
    "\n",
    "num202108 = total_202108['계'].sum()"
   ]
  },
  {
   "cell_type": "code",
   "execution_count": 28,
   "id": "1d6bb14b-6bf3-4160-8bea-af01ef16b729",
   "metadata": {
    "tags": []
   },
   "outputs": [],
   "source": [
    "df_2022_08['날짜'] = pd.to_datetime(df_2022_08['날짜'])\n",
    "\n",
    "total_202208 = df_2022_08[df_2022_08['날짜'] <= '2022-08-31']\n",
    "\n",
    "total_202208['계'] = total_202208[['05~06', '06~07', '07~08', '08~09', '09~10', '10~11',\n",
    "       '11~12', '12~13', '13~14', '14~15', '15~16', '16~17', '17~18', '18~19',\n",
    "       '19~20', '20~21', '21~22', '22~23', '23~24', '00~01']].sum(axis=1)\n",
    "\n",
    "num202208 = total_202208['계'].sum()"
   ]
  },
  {
   "cell_type": "code",
   "execution_count": 36,
   "id": "dafe7edb-b6e5-4272-88e5-565467c0da1d",
   "metadata": {},
   "outputs": [],
   "source": [
    "data = pd.DataFrame({'년':[2019, 2020, 2021, 2022], '하차총승객수':[num201908, num202008, num202108, num202208]}, columns=['년', '하차총승객수'])"
   ]
  },
  {
   "cell_type": "code",
   "execution_count": 37,
   "id": "972e1e9b-2716-42ec-8ea5-93cd18463fdc",
   "metadata": {},
   "outputs": [
    {
     "data": {
      "text/html": [
       "<div>\n",
       "<style scoped>\n",
       "    .dataframe tbody tr th:only-of-type {\n",
       "        vertical-align: middle;\n",
       "    }\n",
       "\n",
       "    .dataframe tbody tr th {\n",
       "        vertical-align: top;\n",
       "    }\n",
       "\n",
       "    .dataframe thead th {\n",
       "        text-align: right;\n",
       "    }\n",
       "</style>\n",
       "<table border=\"1\" class=\"dataframe\">\n",
       "  <thead>\n",
       "    <tr style=\"text-align: right;\">\n",
       "      <th></th>\n",
       "      <th>년</th>\n",
       "      <th>하차총승객수</th>\n",
       "    </tr>\n",
       "  </thead>\n",
       "  <tbody>\n",
       "    <tr>\n",
       "      <th>0</th>\n",
       "      <td>2019</td>\n",
       "      <td>1.171271e+09</td>\n",
       "    </tr>\n",
       "    <tr>\n",
       "      <th>1</th>\n",
       "      <td>2020</td>\n",
       "      <td>8.772417e+08</td>\n",
       "    </tr>\n",
       "    <tr>\n",
       "      <th>2</th>\n",
       "      <td>2021</td>\n",
       "      <td>8.451252e+08</td>\n",
       "    </tr>\n",
       "    <tr>\n",
       "      <th>3</th>\n",
       "      <td>2022</td>\n",
       "      <td>9.084531e+08</td>\n",
       "    </tr>\n",
       "  </tbody>\n",
       "</table>\n",
       "</div>"
      ],
      "text/plain": [
       "      년        하차총승객수\n",
       "0  2019  1.171271e+09\n",
       "1  2020  8.772417e+08\n",
       "2  2021  8.451252e+08\n",
       "3  2022  9.084531e+08"
      ]
     },
     "execution_count": 37,
     "metadata": {},
     "output_type": "execute_result"
    }
   ],
   "source": [
    "data"
   ]
  },
  {
   "cell_type": "code",
   "execution_count": 67,
   "id": "cfc2bce4-1823-4bd8-8c02-e8c0aa086446",
   "metadata": {},
   "outputs": [
    {
     "data": {
      "text/plain": [
       "<AxesSubplot:title={'center':'19~22년 8월까지 지하철 하차총승객수'}, xlabel='년', ylabel='하차총승객수'>"
      ]
     },
     "execution_count": 67,
     "metadata": {},
     "output_type": "execute_result"
    },
    {
     "data": {
      "image/png": "[encoded data removed]",
      "text/plain": [
       "<Figure size 640x480 with 1 Axes>"
      ]
     },
     "metadata": {},
     "output_type": "display_data"
    }
   ],
   "source": [
    "plt.title('19~22년 8월까지 지하철 하차총승객수')\n",
    "plt.ylim(700000000, 1200000000)\n",
    "sns.barplot(data=data, x='년', y='하차총승객수', palette=\"hls\")"
   ]
  },
  {
   "cell_type": "markdown",
   "id": "c63acb91-7efc-4272-9814-12481ce79503",
   "metadata": {},
   "source": [
    "# ?"
   ]
  },
  {
   "cell_type": "code",
   "execution_count": null,
   "id": "5e327f1d-42ae-41d4-891c-645eb8594203",
   "metadata": {},
   "outputs": [],
   "source": [
    "#선추가"
   ]
  }
 ],
 "metadata": {
  "kernelspec": {
   "display_name": "Python 3 (ipykernel)",
   "language": "python",
   "name": "python3"
  },
  "language_info": {
   "codemirror_mode": {
    "name": "ipython",
    "version": 3
   },
   "file_extension": ".py",
   "mimetype": "text/x-python",
   "name": "python",
   "nbconvert_exporter": "python",
   "pygments_lexer": "ipython3",
   "version": "3.9.13"
  }
 },
 "nbformat": 4,
 "nbformat_minor": 5
}
