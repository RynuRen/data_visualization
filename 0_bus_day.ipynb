{
 "cells": [
  {
   "cell_type": "markdown",
   "id": "c0db802e-640c-4677-aeb3-2a3348e65b25",
   "metadata": {},
   "source": [
    "### 2017-2021 버스 데이터 전처리 \n",
    "---\n",
    "- 년도별 반복작업\n",
    "- 데이터 중 columns 명이 다르면 따로 수정\n",
    "- 2020년 데이터 중 columns 명이 다르거나 위치가 다르게 되어 있는 부분은 직접 수정함."
   ]
  },
  {
   "cell_type": "code",
   "execution_count": 2,
   "id": "4946c084-ec93-4014-bce9-4cff47d821e8",
   "metadata": {},
   "outputs": [],
   "source": [
    "import pandas as pd\n",
    "import glob\n",
    "import json\n",
    "import requests"
   ]
  },
  {
   "cell_type": "markdown",
   "id": "c606df29-3ee6-4644-8e1c-50bea85ea0c6",
   "metadata": {},
   "source": [
    "# 2017"
   ]
  },
  {
   "cell_type": "code",
   "execution_count": null,
   "id": "9eaa7e39-40f0-4034-9b60-1ffc419a2f34",
   "metadata": {},
   "outputs": [],
   "source": [
    "# csv 파일을 불러 병합\n",
    "csvfiles = glob.glob('data/bus_day/BUS_STATION_BOARDING_MONTH_2017/*.csv')\n",
    "df2017_sum = pd.DataFrame()\n",
    "\n",
    "for csvfile in csvfiles:\n",
    "    tmp = pd.read_csv(csvfile, encoding='cp949', low_memory = False)\n",
    "    df2017_sum = pd.concat([data, tmp])\n",
    "    \n",
    "df2017_sum.reset_index(drop=True, inplace=True)"
   ]
  },
  {
   "cell_type": "code",
   "execution_count": null,
   "id": "ba8ad921-e578-47ba-bae6-bf1788a5b6bd",
   "metadata": {},
   "outputs": [],
   "source": [
    "df2017_sum = data.drop(columns=['노선번호', '노선명','역명','승차총승객수', '등록일자'])"
   ]
  },
  {
   "cell_type": "code",
   "execution_count": null,
   "id": "fd24e3eb-b20d-4fa2-bda5-7c6325964eb3",
   "metadata": {},
   "outputs": [],
   "source": [
    "df2017_sum=df2017_sum.groupby(['사용일자', '버스정류장ARS번호'])['하차총승객수'].sum().reset_index()"
   ]
  },
  {
   "cell_type": "code",
   "execution_count": null,
   "id": "ce33df62-6b52-4629-ac6e-b117eb91a7d5",
   "metadata": {},
   "outputs": [],
   "source": [
    "df2017_sum['버스정류장ARS번호']=df2017_sum['버스정류장ARS번호'].str.replace('~','').replace('',0).astype('int')"
   ]
  },
  {
   "cell_type": "code",
   "execution_count": null,
   "id": "d171ceca-1137-4f34-8ced-2c327d871261",
   "metadata": {},
   "outputs": [],
   "source": [
    "data = pd.read_csv('data/bus_day/20220429기준_서울시정류소리스트.csv', encoding='cp949')"
   ]
  },
  {
   "cell_type": "code",
   "execution_count": null,
   "id": "0aa2f234-adc5-4383-89e2-d6bab1cf9143",
   "metadata": {},
   "outputs": [],
   "source": [
    "data = data.drop(columns=['NODE_ID','정류소명'])"
   ]
  },
  {
   "cell_type": "code",
   "execution_count": null,
   "id": "31133c87-4c9c-4800-98d5-30f193dd2d09",
   "metadata": {},
   "outputs": [],
   "source": [
    "data['버스정류장ARS번호']=data['버스정류장ARS번호'].astype('int')"
   ]
  },
  {
   "cell_type": "code",
   "execution_count": null,
   "id": "ade9ee3e-ac45-4d46-a576-ae6144235b4c",
   "metadata": {},
   "outputs": [],
   "source": [
    "bus2017=  pd.merge(left = df2017_sum, right = data, on = '버스정류장ARS번호', how = 'left')"
   ]
  },
  {
   "cell_type": "code",
   "execution_count": null,
   "id": "7f64b5f6-56eb-41b2-978d-c82f2a808646",
   "metadata": {},
   "outputs": [],
   "source": [
    "bus2017= bus2017.dropna()"
   ]
  },
  {
   "cell_type": "code",
   "execution_count": null,
   "id": "6d306f74-ddb7-499c-aee1-52ed09eb7503",
   "metadata": {},
   "outputs": [],
   "source": [
    "bus2017 = bus2017[['사용일자', '년', '월', '일', '버스정류장ARS번호', '하차총승객수', 'X좌표', 'Y좌표']]"
   ]
  },
  {
   "cell_type": "code",
   "execution_count": null,
   "id": "b4a50184-1e2b-42c7-b928-f4ea129d3d46",
   "metadata": {},
   "outputs": [],
   "source": [
    "api_key = '암호'"
   ]
  },
  {
   "cell_type": "code",
   "execution_count": null,
   "id": "58fc7b10-e18d-4f8d-a834-12dc266beae9",
   "metadata": {},
   "outputs": [],
   "source": [
    "def lat_lon_to_addr(lon,lat):\n",
    "    url = 'https://dapi.kakao.com/v2/local/geo/coord2regioncode.json?x={longitude}&y={latitude}'.format(longitude=lon,latitude=lat)\n",
    "    headers = {\"Authorization\": \"KakaoAK \" + api_key}\n",
    "    result = json.loads(str(requests.get(url, headers=headers).text))\n",
    "    match_first = result['documents'][0]['address_name']\n",
    "    return addr.append(match_first)"
   ]
  },
  {
   "cell_type": "code",
   "execution_count": null,
   "id": "f61805eb-cfd3-434b-b2bb-7789290bc0e0",
   "metadata": {},
   "outputs": [],
   "source": [
    "addr = []\n",
    "for i in range(0,2):\n",
    "    try: lat_lon_to_addr(data['좌표X'][i],data['좌표Y'][i])\n",
    "    except : \n",
    "        addr.append(None)"
   ]
  },
  {
   "cell_type": "code",
   "execution_count": null,
   "id": "ebecbd0e-5849-40cc-948e-c2306dd14dc6",
   "metadata": {},
   "outputs": [],
   "source": [
    "addr = pd.DataFrame(addr)"
   ]
  },
  {
   "cell_type": "code",
   "execution_count": null,
   "id": "00effc39-2cef-41c2-89c9-f436125fe2f9",
   "metadata": {},
   "outputs": [],
   "source": [
    "addr['버스정류장ARS번호'] = bus2017['버스정류장ARS번호']\n",
    "addr.rename(columns={0:'주소'},inplace=True)\n",
    "addr=addr[['버스정류장ARS번호', '주소']]"
   ]
  },
  {
   "cell_type": "code",
   "execution_count": null,
   "id": "ac407ced-d3d0-4a20-8e3d-aab0ca6944ab",
   "metadata": {},
   "outputs": [],
   "source": [
    "#병합하고 분리\n",
    "bus2017 = pd.merge(bus2017,addr, on = '버스정류장ARS번호', how='left')\n",
    "\n",
    "bus2017['구'] = bus2017['주소'].str.split(' ').str.get(1)\n",
    "bus2017['동'] = bus2017['주소'].str.split(' ').str.get(2)\n",
    "\n",
    "# 저장해서 로드 시간을 줄입니다....\n",
    "bus2017.to_csv('data/bus_total/2017버스.csv', index=False)"
   ]
  },
  {
   "cell_type": "markdown",
   "id": "75dc2617-180b-4f2c-bbcc-d0d107f77d8b",
   "metadata": {},
   "source": [
    "# 2018"
   ]
  },
  {
   "cell_type": "code",
   "execution_count": null,
   "id": "58cc9465-d7d6-42a6-b5a2-4f072b3b59d3",
   "metadata": {},
   "outputs": [],
   "source": [
    "# csv 파일을 불러 병합\n",
    "csvfiles = glob.glob('data/bus_day/BUS_STATION_BOARDING_MONTH_2018/*.csv')\n",
    "df2018_sum = pd.DataFrame()\n",
    "\n",
    "for csvfile in csvfiles:\n",
    "    tmp = pd.read_csv(csvfile, encoding='cp949', low_memory = False)\n",
    "    df2018_sum = pd.concat([data, tmp])\n",
    "    \n",
    "df2018_sum.reset_index(drop=True, inplace=True)"
   ]
  },
  {
   "cell_type": "code",
   "execution_count": null,
   "id": "c33b92de-c7ef-47bb-b5f1-5ff7428b0ba4",
   "metadata": {},
   "outputs": [],
   "source": [
    "df2018_sum = data.drop(columns=['노선번호', '노선명','역명','승차총승객수', '등록일자'])\n",
    "\n",
    "df2018_sum=df2018_sum.groupby(['사용일자', '버스정류장ARS번호'])['하차총승객수'].sum().reset_index()\n",
    "\n",
    "df2018_sum['버스정류장ARS번호']=df2018_sum['버스정류장ARS번호'].str.replace('~','').replace('',0).astype('int')"
   ]
  },
  {
   "cell_type": "code",
   "execution_count": null,
   "id": "6fed0f5f-c4b0-46bb-b20f-954c9fe82cf7",
   "metadata": {},
   "outputs": [],
   "source": [
    "data = pd.read_csv('data/bus_day/20220429기준_서울시정류소리스트.csv', encoding='cp949')\n",
    "\n",
    "data = data.drop(columns=['NODE_ID','정류소명'])\n",
    "\n",
    "data['버스정류장ARS번호']=data['버스정류장ARS번호'].astype('int')"
   ]
  },
  {
   "cell_type": "code",
   "execution_count": null,
   "id": "e3989ff0-42f5-4cb6-8b1d-96a1a49a7e05",
   "metadata": {},
   "outputs": [],
   "source": [
    "bus2018=  pd.merge(left = df2018_sum, right = data, on = '버스정류장ARS번호', how = 'left')\n",
    "\n",
    "bus2018= bus2018.dropna()\n",
    "\n",
    "bus2018 = bus2018[['사용일자', '년', '월', '일', '버스정류장ARS번호', '하차총승객수', 'X좌표', 'Y좌표']]"
   ]
  },
  {
   "cell_type": "code",
   "execution_count": null,
   "id": "a36f7995-701a-4f82-a8b9-5a4dac01b104",
   "metadata": {},
   "outputs": [],
   "source": [
    "api_key = '암호'"
   ]
  },
  {
   "cell_type": "code",
   "execution_count": null,
   "id": "bb014ede-0457-4c2f-ba14-bcf3f2985d43",
   "metadata": {},
   "outputs": [],
   "source": [
    "def lat_lon_to_addr(lon,lat):\n",
    "    url = 'https://dapi.kakao.com/v2/local/geo/coord2regioncode.json?x={longitude}&y={latitude}'.format(longitude=lon,latitude=lat)\n",
    "    headers = {\"Authorization\": \"KakaoAK \" + api_key}\n",
    "    result = json.loads(str(requests.get(url, headers=headers).text))\n",
    "    match_first = result['documents'][0]['address_name']\n",
    "    return addr.append(match_first)"
   ]
  },
  {
   "cell_type": "code",
   "execution_count": null,
   "id": "5fc7073f-c914-4cb6-a38b-ffed3a0173ad",
   "metadata": {},
   "outputs": [],
   "source": [
    "addr = []\n",
    "for i in range(0,2):\n",
    "    try: lat_lon_to_addr(data['좌표X'][i],data['좌표Y'][i])\n",
    "    except : \n",
    "        addr.append(None)"
   ]
  },
  {
   "cell_type": "code",
   "execution_count": null,
   "id": "5d8e6cf0-8515-4ea1-8bed-37d2ae52b353",
   "metadata": {},
   "outputs": [],
   "source": [
    "addr = pd.DataFrame(addr)\n",
    "\n",
    "addr['버스정류장ARS번호'] = bus2018['버스정류장ARS번호']\n",
    "addr.rename(columns={0:'주소'},inplace=True)\n",
    "addr=addr[['버스정류장ARS번호', '주소']]"
   ]
  },
  {
   "cell_type": "code",
   "execution_count": null,
   "id": "b61dd149-8cf3-4d57-8c15-5707de6b484a",
   "metadata": {},
   "outputs": [],
   "source": [
    "#병합하고 분리\n",
    "bus2018 = pd.merge(bus2018,addr, on = '버스정류장ARS번호', how='left')\n",
    "\n",
    "bus2018['구'] = bus2018['주소'].str.split(' ').str.get(1)\n",
    "bus2018['동'] = bus2018['주소'].str.split(' ').str.get(2)\n",
    "\n",
    "# 저장해서 로드 시간을 줄입니다....\n",
    "bus2018.to_csv('data/bus_total/2018버스.csv', index=False)"
   ]
  },
  {
   "cell_type": "markdown",
   "id": "f0dac56d-d008-4d36-b260-8be76e588793",
   "metadata": {
    "tags": []
   },
   "source": [
    "# 2019"
   ]
  },
  {
   "cell_type": "code",
   "execution_count": null,
   "id": "36132c0d-1a9f-4073-8301-215c3a0e5ea9",
   "metadata": {},
   "outputs": [],
   "source": [
    "# csv 파일을 불러 병합\n",
    "csvfiles = glob.glob('data/bus_day/BUS_STATION_BOARDING_MONTH_2019/*.csv')\n",
    "df2019_sum = pd.DataFrame()\n",
    "\n",
    "for csvfile in csvfiles:\n",
    "    tmp = pd.read_csv(csvfile, encoding='cp949', low_memory = False)\n",
    "    df2019_sum = pd.concat([data, tmp])\n",
    "    \n",
    "df2019_sum.reset_index(drop=True, inplace=True)"
   ]
  },
  {
   "cell_type": "code",
   "execution_count": null,
   "id": "9250363b-affe-479c-99b1-ea50cdaa2510",
   "metadata": {},
   "outputs": [],
   "source": [
    "df2019_sum = data.drop(columns=['노선번호', '노선명','역명','승차총승객수', '등록일자'])\n",
    "\n",
    "df2019_sum=df2019_sum.groupby(['사용일자', '버스정류장ARS번호'])['하차총승객수'].sum().reset_index()\n",
    "\n",
    "df2019_sum['버스정류장ARS번호']=df2019_sum['버스정류장ARS번호'].str.replace('~','').replace('',0).astype('int')"
   ]
  },
  {
   "cell_type": "code",
   "execution_count": null,
   "id": "dfc05bf3-0b6e-4362-b7cf-8ac01ce02f99",
   "metadata": {},
   "outputs": [],
   "source": [
    "data = pd.read_csv('data/bus_day/20220429기준_서울시정류소리스트.csv', encoding='cp949')\n",
    "\n",
    "data = data.drop(columns=['NODE_ID','정류소명'])\n",
    "\n",
    "data['버스정류장ARS번호']=data['버스정류장ARS번호'].astype('int')"
   ]
  },
  {
   "cell_type": "code",
   "execution_count": null,
   "id": "78231379-5ddd-4ee5-ad1c-89c3b64db662",
   "metadata": {},
   "outputs": [],
   "source": [
    "bus2019=  pd.merge(left = df2019_sum, right = data, on = '버스정류장ARS번호', how = 'left')\n",
    "\n",
    "bus2019= bus2019.dropna()\n",
    "\n",
    "bus2019 = bus2019[['사용일자', '년', '월', '일', '버스정류장ARS번호', '하차총승객수', 'X좌표', 'Y좌표']]"
   ]
  },
  {
   "cell_type": "code",
   "execution_count": null,
   "id": "f1725424-dc44-4cec-95eb-20d910549c2a",
   "metadata": {},
   "outputs": [],
   "source": [
    "api_key = '암호'"
   ]
  },
  {
   "cell_type": "code",
   "execution_count": null,
   "id": "096c6233-fe2e-4f53-8392-68d31cee81a0",
   "metadata": {},
   "outputs": [],
   "source": [
    "def lat_lon_to_addr(lon,lat):\n",
    "    url = 'https://dapi.kakao.com/v2/local/geo/coord2regioncode.json?x={longitude}&y={latitude}'.format(longitude=lon,latitude=lat)\n",
    "    headers = {\"Authorization\": \"KakaoAK \" + api_key}\n",
    "    result = json.loads(str(requests.get(url, headers=headers).text))\n",
    "    match_first = result['documents'][0]['address_name']\n",
    "    return addr.append(match_first)"
   ]
  },
  {
   "cell_type": "code",
   "execution_count": null,
   "id": "cf5388a3-e3e8-4d98-80b8-0074fdd19cc1",
   "metadata": {},
   "outputs": [],
   "source": [
    "addr = []\n",
    "for i in range(0,2):\n",
    "    try: lat_lon_to_addr(data['좌표X'][i],data['좌표Y'][i])\n",
    "    except : \n",
    "        addr.append(None)"
   ]
  },
  {
   "cell_type": "code",
   "execution_count": null,
   "id": "06598cf0-f7ed-4e23-aba2-d651ca20f6db",
   "metadata": {},
   "outputs": [],
   "source": [
    "addr = pd.DataFrame(addr)\n",
    "\n",
    "addr['버스정류장ARS번호'] = bus2019['버스정류장ARS번호']\n",
    "addr.rename(columns={0:'주소'},inplace=True)\n",
    "addr=addr[['버스정류장ARS번호', '주소']]"
   ]
  },
  {
   "cell_type": "code",
   "execution_count": null,
   "id": "d2cc440f-dd2d-484d-baf2-b193c59a4b11",
   "metadata": {},
   "outputs": [],
   "source": [
    "#병합하고 분리\n",
    "bus2019 = pd.merge(bus2019,addr, on = '버스정류장ARS번호', how='left')\n",
    "\n",
    "bus2019['구'] = bus2019['주소'].str.split(' ').str.get(1)\n",
    "bus2019['동'] = bus2019['주소'].str.split(' ').str.get(2)\n",
    "\n",
    "# 저장해서 로드 시간을 줄입니다....\n",
    "bus2019.to_csv('data/bus_total/2019버스.csv', index=False)"
   ]
  },
  {
   "cell_type": "markdown",
   "id": "7bd0ff88-a0c2-4b03-810c-4016f126ec0c",
   "metadata": {},
   "source": [
    "# 2020"
   ]
  },
  {
   "cell_type": "code",
   "execution_count": null,
   "id": "134e27a6-3ff7-427d-a629-21c2122c6841",
   "metadata": {},
   "outputs": [],
   "source": [
    "# csv 파일을 불러 병합\n",
    "csvfiles = glob.glob('data/bus_day/BUS_STATION_BOARDING_MONTH_2020/*.csv')\n",
    "df2020_sum = pd.DataFrame()\n",
    "\n",
    "for csvfile in csvfiles:\n",
    "    tmp = pd.read_csv(csvfile, encoding='cp949', low_memory = False)\n",
    "    df2020_sum = pd.concat([data, tmp])\n",
    "    \n",
    "df2020_sum.reset_index(drop=True, inplace=True)"
   ]
  },
  {
   "cell_type": "code",
   "execution_count": null,
   "id": "b1293be8-f47a-4f04-8d9e-5c2241ea17c1",
   "metadata": {},
   "outputs": [],
   "source": [
    "df2020_sum = data.drop(columns=['노선번호', '노선명','역명','승차총승객수', '등록일자'])\n",
    "\n",
    "df2020_sum=df2020_sum.groupby(['사용일자', '버스정류장ARS번호'])['하차총승객수'].sum().reset_index()\n",
    "\n",
    "df2020_sum['버스정류장ARS번호']=df2020_sum['버스정류장ARS번호'].str.replace('~','').replace('',0).astype('int')"
   ]
  },
  {
   "cell_type": "code",
   "execution_count": null,
   "id": "0c5710c8-21a7-4f41-9e98-96f9327cb244",
   "metadata": {},
   "outputs": [],
   "source": [
    "data = pd.read_csv('data/bus_day/20220429기준_서울시정류소리스트.csv', encoding='cp949')\n",
    "\n",
    "data = data.drop(columns=['NODE_ID','정류소명'])\n",
    "\n",
    "data['버스정류장ARS번호']=data['버스정류장ARS번호'].astype('int')"
   ]
  },
  {
   "cell_type": "code",
   "execution_count": null,
   "id": "aa78cb78-46c7-45e2-8e28-8955fcec3b2b",
   "metadata": {},
   "outputs": [],
   "source": [
    "bus2020=  pd.merge(left = df2020_sum, right = data, on = '버스정류장ARS번호', how = 'left')\n",
    "\n",
    "bus2020= bus2020.dropna()\n",
    "\n",
    "bus2020 = bus2020[['사용일자', '년', '월', '일', '버스정류장ARS번호', '하차총승객수', 'X좌표', 'Y좌표']]"
   ]
  },
  {
   "cell_type": "code",
   "execution_count": null,
   "id": "19e58ffe-0f15-47c6-b153-19f80627cd9c",
   "metadata": {},
   "outputs": [],
   "source": [
    "api_key = '암호'"
   ]
  },
  {
   "cell_type": "code",
   "execution_count": null,
   "id": "c6043702-c9c4-4d2f-9c85-43f8682b2cab",
   "metadata": {},
   "outputs": [],
   "source": [
    "def lat_lon_to_addr(lon,lat):\n",
    "    url = 'https://dapi.kakao.com/v2/local/geo/coord2regioncode.json?x={longitude}&y={latitude}'.format(longitude=lon,latitude=lat)\n",
    "    headers = {\"Authorization\": \"KakaoAK \" + api_key}\n",
    "    result = json.loads(str(requests.get(url, headers=headers).text))\n",
    "    match_first = result['documents'][0]['address_name']\n",
    "    return addr.append(match_first)"
   ]
  },
  {
   "cell_type": "code",
   "execution_count": null,
   "id": "b25c8569-39f6-4117-a46c-b29e084bb1a6",
   "metadata": {},
   "outputs": [],
   "source": [
    "addr = []\n",
    "for i in range(0,2):\n",
    "    try: lat_lon_to_addr(data['좌표X'][i],data['좌표Y'][i])\n",
    "    except : \n",
    "        addr.append(None)"
   ]
  },
  {
   "cell_type": "code",
   "execution_count": null,
   "id": "eb075433-e1a8-4ea4-a5ce-51d389f615e2",
   "metadata": {},
   "outputs": [],
   "source": [
    "addr = pd.DataFrame(addr)\n",
    "\n",
    "addr['버스정류장ARS번호'] = bus2020['버스정류장ARS번호']\n",
    "addr.rename(columns={0:'주소'},inplace=True)\n",
    "addr=addr[['버스정류장ARS번호', '주소']]"
   ]
  },
  {
   "cell_type": "code",
   "execution_count": null,
   "id": "8710ca27-1cce-40d1-b5d7-59f86513b1f3",
   "metadata": {},
   "outputs": [],
   "source": [
    "#병합하고 분리\n",
    "bus2020 = pd.merge(bus2020,addr, on = '버스정류장ARS번호', how='left')\n",
    "\n",
    "bus2020['구'] = bus2020['주소'].str.split(' ').str.get(1)\n",
    "bus2020['동'] = bus2020['주소'].str.split(' ').str.get(2)\n",
    "\n",
    "# 저장해서 로드 시간을 줄입니다....\n",
    "bus2018.to_csv('data/bus_total/2020버스.csv', index=False)"
   ]
  },
  {
   "cell_type": "markdown",
   "id": "f4605ae9-dd23-468d-bdd4-764792090cb1",
   "metadata": {},
   "source": [
    "# 2021"
   ]
  },
  {
   "cell_type": "code",
   "execution_count": null,
   "id": "763cf5cc-717d-4488-b9df-0d1b8ea1b3b6",
   "metadata": {},
   "outputs": [],
   "source": [
    "# csv 파일을 불러 병합\n",
    "csvfiles = glob.glob('data/bus_day/BUS_STATION_BOARDING_MONTH_2021/*.csv')\n",
    "df2021_sum = pd.DataFrame()\n",
    "\n",
    "for csvfile in csvfiles:\n",
    "    tmp = pd.read_csv(csvfile, encoding='cp949', low_memory = False)\n",
    "    df2021_sum = pd.concat([data, tmp])\n",
    "    \n",
    "df2021_sum.reset_index(drop=True, inplace=True)"
   ]
  },
  {
   "cell_type": "code",
   "execution_count": null,
   "id": "4ff4f3e1-9145-4cb7-ad19-b0752eb54f0b",
   "metadata": {},
   "outputs": [],
   "source": [
    "df2021_sum = data.drop(columns=['노선번호', '노선명','역명','승차총승객수', '등록일자'])\n",
    "\n",
    "df2021_sum=df2021_sum.groupby(['사용일자', '버스정류장ARS번호'])['하차총승객수'].sum().reset_index()\n",
    "\n",
    "df2021_sum['버스정류장ARS번호']=df2021_sum['버스정류장ARS번호'].str.replace('~','').replace('',0).astype('int')"
   ]
  },
  {
   "cell_type": "code",
   "execution_count": null,
   "id": "806f675a-0bba-414e-83c3-1f4251470d2e",
   "metadata": {},
   "outputs": [],
   "source": [
    "data = pd.read_csv('data/bus_day/20220429기준_서울시정류소리스트.csv', encoding='cp949')\n",
    "\n",
    "data = data.drop(columns=['NODE_ID','정류소명'])\n",
    "\n",
    "data['버스정류장ARS번호']=data['버스정류장ARS번호'].astype('int')"
   ]
  },
  {
   "cell_type": "code",
   "execution_count": null,
   "id": "e6d4410b-3faa-466b-827a-529fa0ee4056",
   "metadata": {},
   "outputs": [],
   "source": [
    "bus2021=  pd.merge(left = df2021_sum, right = data, on = '버스정류장ARS번호', how = 'left')\n",
    "\n",
    "bus2021= bus2021.dropna()\n",
    "\n",
    "bus2021 = bus2021[['사용일자', '년', '월', '일', '버스정류장ARS번호', '하차총승객수', 'X좌표', 'Y좌표']]"
   ]
  },
  {
   "cell_type": "code",
   "execution_count": null,
   "id": "3c242940-ec2a-47fe-9f99-bf7f2f859086",
   "metadata": {},
   "outputs": [],
   "source": [
    "api_key = '암호'"
   ]
  },
  {
   "cell_type": "code",
   "execution_count": null,
   "id": "2038c9e8-73e2-4660-bb64-becd8e7e08fb",
   "metadata": {},
   "outputs": [],
   "source": [
    "def lat_lon_to_addr(lon,lat):\n",
    "    url = 'https://dapi.kakao.com/v2/local/geo/coord2regioncode.json?x={longitude}&y={latitude}'.format(longitude=lon,latitude=lat)\n",
    "    headers = {\"Authorization\": \"KakaoAK \" + api_key}\n",
    "    result = json.loads(str(requests.get(url, headers=headers).text))\n",
    "    match_first = result['documents'][0]['address_name']\n",
    "    return addr.append(match_first)"
   ]
  },
  {
   "cell_type": "code",
   "execution_count": null,
   "id": "598b2e06-f778-4737-8ae7-4c278f22fab7",
   "metadata": {},
   "outputs": [],
   "source": [
    "addr = []\n",
    "for i in range(0,2):\n",
    "    try: lat_lon_to_addr(data['좌표X'][i],data['좌표Y'][i])\n",
    "    except : \n",
    "        addr.append(None)"
   ]
  },
  {
   "cell_type": "code",
   "execution_count": null,
   "id": "b64e7916-bdb2-47de-b474-b7ed61b4ee80",
   "metadata": {},
   "outputs": [],
   "source": [
    "addr = pd.DataFrame(addr)\n",
    "\n",
    "addr['버스정류장ARS번호'] = bus2021['버스정류장ARS번호']\n",
    "addr.rename(columns={0:'주소'},inplace=True)\n",
    "addr=addr[['버스정류장ARS번호', '주소']]"
   ]
  },
  {
   "cell_type": "code",
   "execution_count": null,
   "id": "94a80f49-1d38-4480-8f6a-4368fba2c5bc",
   "metadata": {},
   "outputs": [],
   "source": [
    "bus2021['년'] = bus2021['사용일자'].astype('string').str[:4].astype('int')\n",
    "bus2021['월'] = bus2021['사용일자'].astype('string').str[4:6].astype('int')\n",
    "bus2021['일'] = bus2021['사용일자'].astype('string').str[6:].astype('int')"
   ]
  },
  {
   "cell_type": "code",
   "execution_count": null,
   "id": "150a0905-82d3-49e0-b9b7-0df5fac0507a",
   "metadata": {},
   "outputs": [],
   "source": [
    "#병합하고 분리\n",
    "bus2021 = pd.merge(bus2021,addr, on = '버스정류장ARS번호', how='left')\n",
    "\n",
    "bus2021['구'] = bus2021['주소'].str.split(' ').str.get(1)\n",
    "bus2021['동'] = bus2021['주소'].str.split(' ').str.get(2)\n",
    "\n",
    "# 저장해서 로드 시간을 줄입니다....\n",
    "bus2021.to_csv('data/bus_total/2021버스.csv', index=False)"
   ]
  },
  {
   "cell_type": "markdown",
   "id": "7f59e301-b892-4b5c-890f-af18f486bf67",
   "metadata": {},
   "source": [
    "### 데이터 시각화\n",
    "---"
   ]
  },
  {
   "cell_type": "markdown",
   "id": "81c06395-5f43-410b-bfcf-8f1f229dc529",
   "metadata": {},
   "source": [
    "- Calendar : 일별 하차승객 데이터 "
   ]
  },
  {
   "cell_type": "code",
   "execution_count": null,
   "id": "9b7ae503-3d35-49aa-bc49-317c8c25ec6e",
   "metadata": {},
   "outputs": [],
   "source": [
    "pip install pyecharts"
   ]
  },
  {
   "cell_type": "code",
   "execution_count": null,
   "id": "ff135ab2-34dd-4ff2-b422-b23e9a046d4c",
   "metadata": {},
   "outputs": [],
   "source": [
    "import pyecharts\n",
    "from pyecharts.charts import Calendar\n",
    "from pyecharts import options as opts"
   ]
  },
  {
   "cell_type": "code",
   "execution_count": null,
   "id": "d9ad83b0-9da9-45ce-b378-d7c73c20b903",
   "metadata": {},
   "outputs": [],
   "source": [
    "bus2017['사용일자']= bus2017['사용일자'].astype('str')"
   ]
  },
  {
   "cell_type": "code",
   "execution_count": null,
   "id": "0b97d1e6-a258-4885-97c6-aeca6265ca38",
   "metadata": {},
   "outputs": [],
   "source": [
    "bus2017['사용일자'] = pd.to_datetime(bus2017['사용일자'])"
   ]
  },
  {
   "cell_type": "code",
   "execution_count": null,
   "id": "75e074ac-fcb5-4361-b562-6e707489b979",
   "metadata": {},
   "outputs": [],
   "source": [
    "day_by_year = bus2017.groupby('사용일자').sum()[['하차총승객수']].round(0)"
   ]
  },
  {
   "cell_type": "code",
   "execution_count": null,
   "id": "0fee97a9-a11f-433c-9898-c5337ae269b2",
   "metadata": {},
   "outputs": [],
   "source": [
    "day_by_year = day_by_year.reset_index()\n",
    "day_by_year"
   ]
  },
  {
   "cell_type": "code",
   "execution_count": null,
   "id": "06ac89a1-8ba1-4c03-8c52-9d70a0367b12",
   "metadata": {},
   "outputs": [],
   "source": [
    "data = day_by_year[['사용일자','하차총승객수']].values.tolist()\n",
    "data"
   ]
  },
  {
   "cell_type": "code",
   "execution_count": null,
   "id": "584737c7-2c1b-4b36-ab8e-3b47312c6f31",
   "metadata": {},
   "outputs": [],
   "source": [
    "max_day = day_by_year['하차총승객수'].max()\n",
    "min_day = day_by_year['하차총승객수'].min()"
   ]
  },
  {
   "cell_type": "code",
   "execution_count": null,
   "id": "ca394040-4708-429b-8965-0bacf8b6c2a5",
   "metadata": {},
   "outputs": [],
   "source": [
    "cal = (Calendar()\n",
    " .add('',data,calendar_opts=opts.CalendarOpts(range_='2019'))\n",
    " .set_global_opts(\n",
    "     title_opts=opts.TitleOpts(title='2019년도 버스', subtitle='일별 데이터'),\n",
    "     legend_opts=opts.LegendOpts(is_show=False),\n",
    "     visualmap_opts=opts.VisualMapOpts(\n",
    "         max_ = max_day,\n",
    "         min_ = min_day,\n",
    "         orient='horizontal',\n",
    "         is_piecewise=False,\n",
    "         pos_top='230px',\n",
    "         pos_left='100px',\n",
    "     )))"
   ]
  },
  {
   "cell_type": "code",
   "execution_count": 4,
   "id": "5b9c8fd8-9cdd-4e74-bf74-7fefb2f2acaa",
   "metadata": {
    "collapsed": true,
    "jupyter": {
     "outputs_hidden": true
    },
    "tags": []
   },
   "outputs": [
    {
     "ename": "NameError",
     "evalue": "name 'cal' is not defined",
     "output_type": "error",
     "traceback": [
      "\u001b[1;31m---------------------------------------------------------------------------\u001b[0m",
      "\u001b[1;31mNameError\u001b[0m                                 Traceback (most recent call last)",
      "\u001b[1;32m~\\AppData\\Local\\Temp\\ipykernel_17676\\2146836734.py\u001b[0m in \u001b[0;36m<module>\u001b[1;34m\u001b[0m\n\u001b[1;32m----> 1\u001b[1;33m \u001b[0mcal\u001b[0m\u001b[1;33m.\u001b[0m\u001b[0mrender\u001b[0m\u001b[1;33m(\u001b[0m\u001b[1;33m)\u001b[0m \u001b[1;31m#생성된 파일 확인\u001b[0m\u001b[1;33m\u001b[0m\u001b[1;33m\u001b[0m\u001b[0m\n\u001b[0m",
      "\u001b[1;31mNameError\u001b[0m: name 'cal' is not defined"
     ]
    }
   ],
   "source": [
    "cal.render() #생성된 파일 확인"
   ]
  },
  {
   "cell_type": "markdown",
   "id": "497b753d-3537-4cd3-a5a3-49c280fc9459",
   "metadata": {},
   "source": [
    "- 지도 HeatMap"
   ]
  },
  {
   "cell_type": "code",
   "execution_count": null,
   "id": "10ce838a-6228-4195-816d-d1866b8caa5e",
   "metadata": {},
   "outputs": [],
   "source": [
    "import folium"
   ]
  },
  {
   "cell_type": "code",
   "execution_count": null,
   "id": "48d29234-69e9-43cb-b65a-59caa4dfdcf7",
   "metadata": {},
   "outputs": [],
   "source": [
    "seoul_loc = (37.566535, 126.9779692)\n",
    "seoul = folium.Map(seoul_loc, zoom_start=10, tiles='stamenterrain')\n",
    "seoul.add_child(plugins.HeatMap(zip(year170929['Y좌표'], \n",
    "                                    year170929['X좌표'], \n",
    "                                    year170929['하차총승객수']),\n",
    "                                radius=10, min_opacity=0.1))"
   ]
  },
  {
   "cell_type": "markdown",
   "id": "0e53072a-0a8e-45e0-9b48-77418f659733",
   "metadata": {},
   "source": [
    "- 피벗 테이블"
   ]
  },
  {
   "cell_type": "code",
   "execution_count": null,
   "id": "42cd8319-bdbc-4eb6-8ce8-1550a3a4c5e3",
   "metadata": {},
   "outputs": [],
   "source": [
    "bb17= bus2017.groupby(['월','일','동'])['하차총승객수'].sum().reset_index()\n",
    "bb17"
   ]
  },
  {
   "cell_type": "code",
   "execution_count": null,
   "id": "d9e04a52-70b0-44c7-b240-9465ca11d084",
   "metadata": {},
   "outputs": [],
   "source": [
    "b17 = bus2017.pivot_table(index=['월','일'], columns='동', values = '하차총승객수')\n",
    "b17"
   ]
  },
  {
   "cell_type": "markdown",
   "id": "9150de4a-575a-4252-9c6e-5121f4fc1302",
   "metadata": {},
   "source": [
    "- Line 연도별 하차승객수"
   ]
  },
  {
   "cell_type": "code",
   "execution_count": 5,
   "id": "6cbfa284-abdf-4550-8008-5f88a5a4ca56",
   "metadata": {
    "collapsed": true,
    "jupyter": {
     "outputs_hidden": true
    },
    "tags": []
   },
   "outputs": [
    {
     "name": "stdout",
     "output_type": "stream",
     "text": [
      "Requirement already satisfied: cufflinks in c:\\users\\user\\anaconda3\\lib\\site-packages (0.17.3)\n",
      "Requirement already satisfied: six>=1.9.0 in c:\\users\\user\\anaconda3\\lib\\site-packages (from cufflinks) (1.16.0)\n",
      "Requirement already satisfied: numpy>=1.9.2 in c:\\users\\user\\anaconda3\\lib\\site-packages (from cufflinks) (1.21.5)\n",
      "Requirement already satisfied: colorlover>=0.2.1 in c:\\users\\user\\anaconda3\\lib\\site-packages (from cufflinks) (0.3.0)\n",
      "Requirement already satisfied: pandas>=0.19.2 in c:\\users\\user\\anaconda3\\lib\\site-packages (from cufflinks) (1.4.4)\n",
      "Requirement already satisfied: plotly>=4.1.1 in c:\\users\\user\\anaconda3\\lib\\site-packages (from cufflinks) (5.9.0)\n",
      "Requirement already satisfied: setuptools>=34.4.1 in c:\\users\\user\\anaconda3\\lib\\site-packages (from cufflinks) (63.4.1)\n",
      "Requirement already satisfied: ipywidgets>=7.0.0 in c:\\users\\user\\anaconda3\\lib\\site-packages (from cufflinks) (7.6.5)\n",
      "Requirement already satisfied: ipython>=5.3.0 in c:\\users\\user\\anaconda3\\lib\\site-packages (from cufflinks) (7.31.1)\n",
      "Requirement already satisfied: jedi>=0.16 in c:\\users\\user\\anaconda3\\lib\\site-packages (from ipython>=5.3.0->cufflinks) (0.18.1)\n",
      "Requirement already satisfied: pickleshare in c:\\users\\user\\anaconda3\\lib\\site-packages (from ipython>=5.3.0->cufflinks) (0.7.5)\n",
      "Requirement already satisfied: prompt-toolkit!=3.0.0,!=3.0.1,<3.1.0,>=2.0.0 in c:\\users\\user\\anaconda3\\lib\\site-packages (from ipython>=5.3.0->cufflinks) (3.0.20)\n",
      "Requirement already satisfied: matplotlib-inline in c:\\users\\user\\anaconda3\\lib\\site-packages (from ipython>=5.3.0->cufflinks) (0.1.6)\n",
      "Requirement already satisfied: backcall in c:\\users\\user\\anaconda3\\lib\\site-packages (from ipython>=5.3.0->cufflinks) (0.2.0)\n",
      "Requirement already satisfied: decorator in c:\\users\\user\\anaconda3\\lib\\site-packages (from ipython>=5.3.0->cufflinks) (5.1.1)\n",
      "Requirement already satisfied: traitlets>=4.2 in c:\\users\\user\\anaconda3\\lib\\site-packages (from ipython>=5.3.0->cufflinks) (5.1.1)\n",
      "Requirement already satisfied: pygments in c:\\users\\user\\anaconda3\\lib\\site-packages (from ipython>=5.3.0->cufflinks) (2.11.2)\n",
      "Requirement already satisfied: colorama in c:\\users\\user\\anaconda3\\lib\\site-packages (from ipython>=5.3.0->cufflinks) (0.4.5)\n",
      "Requirement already satisfied: ipykernel>=4.5.1 in c:\\users\\user\\anaconda3\\lib\\site-packages (from ipywidgets>=7.0.0->cufflinks) (6.15.2)\n",
      "Requirement already satisfied: jupyterlab-widgets>=1.0.0 in c:\\users\\user\\anaconda3\\lib\\site-packages (from ipywidgets>=7.0.0->cufflinks) (1.0.0)\n",
      "Requirement already satisfied: ipython-genutils~=0.2.0 in c:\\users\\user\\anaconda3\\lib\\site-packages (from ipywidgets>=7.0.0->cufflinks) (0.2.0)\n",
      "Requirement already satisfied: widgetsnbextension~=3.5.0 in c:\\users\\user\\anaconda3\\lib\\site-packages (from ipywidgets>=7.0.0->cufflinks) (3.5.2)\n",
      "Requirement already satisfied: nbformat>=4.2.0 in c:\\users\\user\\anaconda3\\lib\\site-packages (from ipywidgets>=7.0.0->cufflinks) (5.5.0)\n",
      "Requirement already satisfied: pytz>=2020.1 in c:\\users\\user\\anaconda3\\lib\\site-packages (from pandas>=0.19.2->cufflinks) (2022.1)\n",
      "Requirement already satisfied: python-dateutil>=2.8.1 in c:\\users\\user\\anaconda3\\lib\\site-packages (from pandas>=0.19.2->cufflinks) (2.8.2)\n",
      "Requirement already satisfied: tenacity>=6.2.0 in c:\\users\\user\\anaconda3\\lib\\site-packages (from plotly>=4.1.1->cufflinks) (8.0.1)\n",
      "Requirement already satisfied: psutil in c:\\users\\user\\anaconda3\\lib\\site-packages (from ipykernel>=4.5.1->ipywidgets>=7.0.0->cufflinks) (5.9.0)\n",
      "Requirement already satisfied: debugpy>=1.0 in c:\\users\\user\\anaconda3\\lib\\site-packages (from ipykernel>=4.5.1->ipywidgets>=7.0.0->cufflinks) (1.5.1)\n",
      "Requirement already satisfied: jupyter-client>=6.1.12 in c:\\users\\user\\anaconda3\\lib\\site-packages (from ipykernel>=4.5.1->ipywidgets>=7.0.0->cufflinks) (7.3.4)\n",
      "Requirement already satisfied: tornado>=6.1 in c:\\users\\user\\anaconda3\\lib\\site-packages (from ipykernel>=4.5.1->ipywidgets>=7.0.0->cufflinks) (6.1)\n",
      "Requirement already satisfied: packaging in c:\\users\\user\\anaconda3\\lib\\site-packages (from ipykernel>=4.5.1->ipywidgets>=7.0.0->cufflinks) (21.3)\n",
      "Requirement already satisfied: nest-asyncio in c:\\users\\user\\anaconda3\\lib\\site-packages (from ipykernel>=4.5.1->ipywidgets>=7.0.0->cufflinks) (1.5.5)\n",
      "Requirement already satisfied: pyzmq>=17 in c:\\users\\user\\anaconda3\\lib\\site-packages (from ipykernel>=4.5.1->ipywidgets>=7.0.0->cufflinks) (23.2.0)\n",
      "Requirement already satisfied: parso<0.9.0,>=0.8.0 in c:\\users\\user\\anaconda3\\lib\\site-packages (from jedi>=0.16->ipython>=5.3.0->cufflinks) (0.8.3)\n",
      "Requirement already satisfied: jsonschema>=2.6 in c:\\users\\user\\anaconda3\\lib\\site-packages (from nbformat>=4.2.0->ipywidgets>=7.0.0->cufflinks) (4.16.0)\n",
      "Requirement already satisfied: jupyter_core in c:\\users\\user\\anaconda3\\lib\\site-packages (from nbformat>=4.2.0->ipywidgets>=7.0.0->cufflinks) (4.11.1)\n",
      "Requirement already satisfied: fastjsonschema in c:\\users\\user\\anaconda3\\lib\\site-packages (from nbformat>=4.2.0->ipywidgets>=7.0.0->cufflinks) (2.16.2)\n",
      "Requirement already satisfied: wcwidth in c:\\users\\user\\anaconda3\\lib\\site-packages (from prompt-toolkit!=3.0.0,!=3.0.1,<3.1.0,>=2.0.0->ipython>=5.3.0->cufflinks) (0.2.5)\n",
      "Requirement already satisfied: notebook>=4.4.1 in c:\\users\\user\\anaconda3\\lib\\site-packages (from widgetsnbextension~=3.5.0->ipywidgets>=7.0.0->cufflinks) (6.4.12)\n",
      "Requirement already satisfied: pyrsistent!=0.17.0,!=0.17.1,!=0.17.2,>=0.14.0 in c:\\users\\user\\anaconda3\\lib\\site-packages (from jsonschema>=2.6->nbformat>=4.2.0->ipywidgets>=7.0.0->cufflinks) (0.18.0)\n",
      "Requirement already satisfied: attrs>=17.4.0 in c:\\users\\user\\anaconda3\\lib\\site-packages (from jsonschema>=2.6->nbformat>=4.2.0->ipywidgets>=7.0.0->cufflinks) (21.4.0)\n",
      "Requirement already satisfied: entrypoints in c:\\users\\user\\anaconda3\\lib\\site-packages (from jupyter-client>=6.1.12->ipykernel>=4.5.1->ipywidgets>=7.0.0->cufflinks) (0.4)\n",
      "Requirement already satisfied: pywin32>=1.0 in c:\\users\\user\\anaconda3\\lib\\site-packages (from jupyter_core->nbformat>=4.2.0->ipywidgets>=7.0.0->cufflinks) (302)\n",
      "Requirement already satisfied: jinja2 in c:\\users\\user\\anaconda3\\lib\\site-packages (from notebook>=4.4.1->widgetsnbextension~=3.5.0->ipywidgets>=7.0.0->cufflinks) (2.11.3)\n",
      "Requirement already satisfied: Send2Trash>=1.8.0 in c:\\users\\user\\anaconda3\\lib\\site-packages (from notebook>=4.4.1->widgetsnbextension~=3.5.0->ipywidgets>=7.0.0->cufflinks) (1.8.0)\n",
      "Requirement already satisfied: terminado>=0.8.3 in c:\\users\\user\\anaconda3\\lib\\site-packages (from notebook>=4.4.1->widgetsnbextension~=3.5.0->ipywidgets>=7.0.0->cufflinks) (0.13.1)\n",
      "Requirement already satisfied: prometheus-client in c:\\users\\user\\anaconda3\\lib\\site-packages (from notebook>=4.4.1->widgetsnbextension~=3.5.0->ipywidgets>=7.0.0->cufflinks) (0.14.1)\n",
      "Requirement already satisfied: nbconvert>=5 in c:\\users\\user\\anaconda3\\lib\\site-packages (from notebook>=4.4.1->widgetsnbextension~=3.5.0->ipywidgets>=7.0.0->cufflinks) (6.4.4)\n",
      "Requirement already satisfied: argon2-cffi in c:\\users\\user\\anaconda3\\lib\\site-packages (from notebook>=4.4.1->widgetsnbextension~=3.5.0->ipywidgets>=7.0.0->cufflinks) (21.3.0)\n",
      "Requirement already satisfied: pyparsing!=3.0.5,>=2.0.2 in c:\\users\\user\\anaconda3\\lib\\site-packages (from packaging->ipykernel>=4.5.1->ipywidgets>=7.0.0->cufflinks) (3.0.9)\n",
      "Requirement already satisfied: jupyterlab-pygments in c:\\users\\user\\anaconda3\\lib\\site-packages (from nbconvert>=5->notebook>=4.4.1->widgetsnbextension~=3.5.0->ipywidgets>=7.0.0->cufflinks) (0.1.2)\n",
      "Requirement already satisfied: mistune<2,>=0.8.1 in c:\\users\\user\\anaconda3\\lib\\site-packages (from nbconvert>=5->notebook>=4.4.1->widgetsnbextension~=3.5.0->ipywidgets>=7.0.0->cufflinks) (0.8.4)\n",
      "Requirement already satisfied: testpath in c:\\users\\user\\anaconda3\\lib\\site-packages (from nbconvert>=5->notebook>=4.4.1->widgetsnbextension~=3.5.0->ipywidgets>=7.0.0->cufflinks) (0.6.0)\n",
      "Requirement already satisfied: pandocfilters>=1.4.1 in c:\\users\\user\\anaconda3\\lib\\site-packages (from nbconvert>=5->notebook>=4.4.1->widgetsnbextension~=3.5.0->ipywidgets>=7.0.0->cufflinks) (1.5.0)\n",
      "Requirement already satisfied: bleach in c:\\users\\user\\anaconda3\\lib\\site-packages (from nbconvert>=5->notebook>=4.4.1->widgetsnbextension~=3.5.0->ipywidgets>=7.0.0->cufflinks) (4.1.0)\n",
      "Requirement already satisfied: defusedxml in c:\\users\\user\\anaconda3\\lib\\site-packages (from nbconvert>=5->notebook>=4.4.1->widgetsnbextension~=3.5.0->ipywidgets>=7.0.0->cufflinks) (0.7.1)\n",
      "Requirement already satisfied: beautifulsoup4 in c:\\users\\user\\anaconda3\\lib\\site-packages (from nbconvert>=5->notebook>=4.4.1->widgetsnbextension~=3.5.0->ipywidgets>=7.0.0->cufflinks) (4.11.1)\n",
      "Requirement already satisfied: nbclient<0.6.0,>=0.5.0 in c:\\users\\user\\anaconda3\\lib\\site-packages (from nbconvert>=5->notebook>=4.4.1->widgetsnbextension~=3.5.0->ipywidgets>=7.0.0->cufflinks) (0.5.13)\n",
      "Requirement already satisfied: MarkupSafe>=0.23 in c:\\users\\user\\anaconda3\\lib\\site-packages (from jinja2->notebook>=4.4.1->widgetsnbextension~=3.5.0->ipywidgets>=7.0.0->cufflinks) (2.0.1)\n",
      "Requirement already satisfied: pywinpty>=1.1.0 in c:\\users\\user\\anaconda3\\lib\\site-packages (from terminado>=0.8.3->notebook>=4.4.1->widgetsnbextension~=3.5.0->ipywidgets>=7.0.0->cufflinks) (2.0.2)\n",
      "Requirement already satisfied: argon2-cffi-bindings in c:\\users\\user\\anaconda3\\lib\\site-packages (from argon2-cffi->notebook>=4.4.1->widgetsnbextension~=3.5.0->ipywidgets>=7.0.0->cufflinks) (21.2.0)\n",
      "Requirement already satisfied: cffi>=1.0.1 in c:\\users\\user\\anaconda3\\lib\\site-packages (from argon2-cffi-bindings->argon2-cffi->notebook>=4.4.1->widgetsnbextension~=3.5.0->ipywidgets>=7.0.0->cufflinks) (1.15.1)\n",
      "Requirement already satisfied: soupsieve>1.2 in c:\\users\\user\\anaconda3\\lib\\site-packages (from beautifulsoup4->nbconvert>=5->notebook>=4.4.1->widgetsnbextension~=3.5.0->ipywidgets>=7.0.0->cufflinks) (2.3.1)\n",
      "Requirement already satisfied: webencodings in c:\\users\\user\\anaconda3\\lib\\site-packages (from bleach->nbconvert>=5->notebook>=4.4.1->widgetsnbextension~=3.5.0->ipywidgets>=7.0.0->cufflinks) (0.5.1)\n",
      "Requirement already satisfied: pycparser in c:\\users\\user\\anaconda3\\lib\\site-packages (from cffi>=1.0.1->argon2-cffi-bindings->argon2-cffi->notebook>=4.4.1->widgetsnbextension~=3.5.0->ipywidgets>=7.0.0->cufflinks) (2.21)\n",
      "Note: you may need to restart the kernel to use updated packages.\n"
     ]
    }
   ],
   "source": [
    "pip install cufflinks\n",
    "pip install chart_studio"
   ]
  },
  {
   "cell_type": "code",
   "execution_count": null,
   "id": "05f32723-fc2f-49e4-8962-f83d093cbc31",
   "metadata": {},
   "outputs": [],
   "source": [
    "import chart_studio.plotly as py\n",
    "import cufflinks as cf\n",
    "cf.go_offline(connected=True)"
   ]
  },
  {
   "cell_type": "code",
   "execution_count": null,
   "id": "117d4d64-5099-4bd9-b6c1-04f15ec53144",
   "metadata": {},
   "outputs": [],
   "source": [
    "mon2017 = bus2017.groupby('월')['하차총승객수'].sum().reset_index()\n",
    "mon2018 = bus2018.groupby('월')['하차총승객수'].sum().reset_index()\n",
    "mon2019 = bus2019.groupby('월')['하차총승객수'].sum().reset_index()\n",
    "mon2020 = bus2020.groupby('월')['하차총승객수'].sum().reset_index()\n",
    "mon2021 = bus2021.groupby('월')['하차총승객수'].sum().reset_index()"
   ]
  },
  {
   "cell_type": "code",
   "execution_count": null,
   "id": "af80d5a3-0c3a-46a6-b8e9-dfe920badec2",
   "metadata": {},
   "outputs": [],
   "source": [
    "monAll=pd.concat([mon2017,mon2018,mon2019,mon2020,mon2021], axis=1)"
   ]
  },
  {
   "cell_type": "code",
   "execution_count": null,
   "id": "73318e46-91c1-4f87-851d-97264657011d",
   "metadata": {},
   "outputs": [],
   "source": [
    "monAll.columns = ['월', '2017승객수', 'ㅇ월', '2018승객수', 'ㄹ월', '2019승객수', 'ㅎ월', '2020승객수', 'ㅗ월',\n",
    "       '2021승객수']"
   ]
  },
  {
   "cell_type": "code",
   "execution_count": null,
   "id": "aeccc75b-8464-4687-907d-0ac0c62c4063",
   "metadata": {},
   "outputs": [],
   "source": [
    "monAll = monAll[['월','2017승객수','2018승객수','2019승객수','2020승객수','2021승객수']]"
   ]
  },
  {
   "cell_type": "code",
   "execution_count": null,
   "id": "5b1bf241-19b8-4ccf-bc2c-1e6c290cc37d",
   "metadata": {},
   "outputs": [],
   "source": [
    "monAll.iplot(kind='line', title='2017년-2021년 월별 유동인구',x = '월')"
   ]
  },
  {
   "cell_type": "markdown",
   "id": "52e3403e-919e-4a66-82e4-7f2c84691968",
   "metadata": {},
   "source": [
    "- Line 월별 하차승객수"
   ]
  },
  {
   "cell_type": "code",
   "execution_count": null,
   "id": "08aaf7c3-d9e8-422d-8205-918dd3bdc783",
   "metadata": {},
   "outputs": [],
   "source": [
    "bus2017.groupby('월')['하차총승객수'].sum().iplot(kind='line', theme = 'solar')"
   ]
  },
  {
   "cell_type": "markdown",
   "id": "5b3ce7c3-68c3-4a61-9382-27248ec0b2a4",
   "metadata": {},
   "source": [
    "- Bar"
   ]
  },
  {
   "cell_type": "code",
   "execution_count": null,
   "id": "5386e0b3-43b5-4a96-993c-cfc355b59d14",
   "metadata": {},
   "outputs": [],
   "source": [
    "yearAll=pd.concat([bus2017.groupby('년')['하차총승객수'].sum().reset_index(),\n",
    "           bus2018.groupby('년')['하차총승객수'].sum().reset_index(),\n",
    "           bus2019.groupby('년')['하차총승객수'].sum().reset_index(),\n",
    "           bus2020.groupby('년')['하차총승객수'].sum().reset_index(),\n",
    "           bus2021.groupby('년')['하차총승객수'].sum().reset_index()])"
   ]
  },
  {
   "cell_type": "code",
   "execution_count": null,
   "id": "c51e91cc-bcb9-45c5-b575-20d4060b9b43",
   "metadata": {},
   "outputs": [],
   "source": [
    "yearAll.reset_index(drop=True, inplace = True)"
   ]
  },
  {
   "cell_type": "code",
   "execution_count": null,
   "id": "e99d2176-3632-4560-b22b-77628d8844be",
   "metadata": {},
   "outputs": [],
   "source": [
    "yearAll['년'].astype('string')"
   ]
  },
  {
   "cell_type": "code",
   "execution_count": null,
   "id": "1fc0df19-1505-4efb-ba24-94bc44b02a3f",
   "metadata": {},
   "outputs": [],
   "source": [
    "yearAll.iplot(kind='bar', x= '년', y='하차총승객수', theme='ggplot' ,title='2017년-2021년 년도별 유동인구' )"
   ]
  },
  {
   "cell_type": "code",
   "execution_count": null,
   "id": "fa6591a6-56a9-47c1-8a9a-ddc581f4a87f",
   "metadata": {},
   "outputs": [],
   "source": []
  },
  {
   "cell_type": "code",
   "execution_count": null,
   "id": "327c34d7-f864-447d-95ca-c21daa756415",
   "metadata": {},
   "outputs": [],
   "source": []
  },
  {
   "cell_type": "code",
   "execution_count": null,
   "id": "e34cac30-adc9-4340-8998-caabd5fa598b",
   "metadata": {},
   "outputs": [],
   "source": []
  },
  {
   "cell_type": "code",
   "execution_count": null,
   "id": "dfa9b4fb-e880-44df-8d43-b3d1d7c21343",
   "metadata": {},
   "outputs": [],
   "source": []
  },
  {
   "cell_type": "code",
   "execution_count": null,
   "id": "7bffd1a3-8d15-4cee-9e58-35d3d45239b1",
   "metadata": {},
   "outputs": [],
   "source": []
  },
  {
   "cell_type": "code",
   "execution_count": null,
   "id": "a2be6a83-7780-4e3c-867a-47b0c313aae4",
   "metadata": {},
   "outputs": [],
   "source": []
  },
  {
   "cell_type": "code",
   "execution_count": null,
   "id": "2df4f792-7f30-4567-a97d-6a6c43919f53",
   "metadata": {},
   "outputs": [],
   "source": []
  }
 ],
 "metadata": {
  "kernelspec": {
   "display_name": "Python 3 (ipykernel)",
   "language": "python",
   "name": "python3"
  },
  "language_info": {
   "codemirror_mode": {
    "name": "ipython",
    "version": 3
   },
   "file_extension": ".py",
   "mimetype": "text/x-python",
   "name": "python",
   "nbconvert_exporter": "python",
   "pygments_lexer": "ipython3",
   "version": "3.8.16"
  }
 },
 "nbformat": 4,
 "nbformat_minor": 5
}
